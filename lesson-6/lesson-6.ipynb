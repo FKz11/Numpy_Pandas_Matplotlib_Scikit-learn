{
 "cells": [
  {
   "cell_type": "markdown",
   "metadata": {},
   "source": [
    "## Основные задания"
   ]
  },
  {
   "cell_type": "markdown",
   "metadata": {},
   "source": [
    "### Task 1.1\n",
    "Импортируйте библиотеки pandas и numpy.\n",
    "Загрузите \"Boston House Prices dataset\" из встроенных наборов данных библиотеки sklearn. Создайте датафреймы X и y из этих данных.\n",
    "Разбейте эти датафреймы на тренировочные (X_train, y_train) и тестовые (X_test, y_test) с помощью функции train_test_split так, чтобы размер тестовой выборки\n",
    "составлял 30% от всех данных, при этом аргумент random_state должен быть равен 42.\n",
    "Создайте модель линейной регрессии под названием lr с помощью класса LinearRegression из модуля sklearn.linear_model.\n",
    "Обучите модель на тренировочных данных (используйте все признаки) и сделайте предсказание на тестовых.\n",
    "Вычислите R2 полученных предказаний с помощью r2_score из модуля sklearn.metrics."
   ]
  },
  {
   "cell_type": "code",
   "execution_count": 1,
   "metadata": {},
   "outputs": [],
   "source": [
    "import numpy as np\n",
    "import pandas as pd"
   ]
  },
  {
   "cell_type": "code",
   "execution_count": 2,
   "metadata": {},
   "outputs": [],
   "source": [
    "from sklearn.datasets import load_boston"
   ]
  },
  {
   "cell_type": "code",
   "execution_count": 3,
   "metadata": {},
   "outputs": [],
   "source": [
    "boston = load_boston()"
   ]
  },
  {
   "cell_type": "code",
   "execution_count": 4,
   "metadata": {},
   "outputs": [],
   "source": [
    "data = boston.data"
   ]
  },
  {
   "cell_type": "code",
   "execution_count": 5,
   "metadata": {},
   "outputs": [],
   "source": [
    "target = boston.target"
   ]
  },
  {
   "cell_type": "code",
   "execution_count": 6,
   "metadata": {},
   "outputs": [],
   "source": [
    "feature_names = boston.feature_names"
   ]
  },
  {
   "cell_type": "code",
   "execution_count": 7,
   "metadata": {},
   "outputs": [],
   "source": [
    "X = pd.DataFrame(data, columns=feature_names)"
   ]
  },
  {
   "cell_type": "code",
   "execution_count": 8,
   "metadata": {},
   "outputs": [
    {
     "data": {
      "text/html": [
       "<div>\n",
       "<style scoped>\n",
       "    .dataframe tbody tr th:only-of-type {\n",
       "        vertical-align: middle;\n",
       "    }\n",
       "\n",
       "    .dataframe tbody tr th {\n",
       "        vertical-align: top;\n",
       "    }\n",
       "\n",
       "    .dataframe thead th {\n",
       "        text-align: right;\n",
       "    }\n",
       "</style>\n",
       "<table border=\"1\" class=\"dataframe\">\n",
       "  <thead>\n",
       "    <tr style=\"text-align: right;\">\n",
       "      <th></th>\n",
       "      <th>CRIM</th>\n",
       "      <th>ZN</th>\n",
       "      <th>INDUS</th>\n",
       "      <th>CHAS</th>\n",
       "      <th>NOX</th>\n",
       "      <th>RM</th>\n",
       "      <th>AGE</th>\n",
       "      <th>DIS</th>\n",
       "      <th>RAD</th>\n",
       "      <th>TAX</th>\n",
       "      <th>PTRATIO</th>\n",
       "      <th>B</th>\n",
       "      <th>LSTAT</th>\n",
       "    </tr>\n",
       "  </thead>\n",
       "  <tbody>\n",
       "    <tr>\n",
       "      <th>0</th>\n",
       "      <td>0.00632</td>\n",
       "      <td>18.0</td>\n",
       "      <td>2.31</td>\n",
       "      <td>0.0</td>\n",
       "      <td>0.538</td>\n",
       "      <td>6.575</td>\n",
       "      <td>65.2</td>\n",
       "      <td>4.0900</td>\n",
       "      <td>1.0</td>\n",
       "      <td>296.0</td>\n",
       "      <td>15.3</td>\n",
       "      <td>396.90</td>\n",
       "      <td>4.98</td>\n",
       "    </tr>\n",
       "    <tr>\n",
       "      <th>1</th>\n",
       "      <td>0.02731</td>\n",
       "      <td>0.0</td>\n",
       "      <td>7.07</td>\n",
       "      <td>0.0</td>\n",
       "      <td>0.469</td>\n",
       "      <td>6.421</td>\n",
       "      <td>78.9</td>\n",
       "      <td>4.9671</td>\n",
       "      <td>2.0</td>\n",
       "      <td>242.0</td>\n",
       "      <td>17.8</td>\n",
       "      <td>396.90</td>\n",
       "      <td>9.14</td>\n",
       "    </tr>\n",
       "    <tr>\n",
       "      <th>2</th>\n",
       "      <td>0.02729</td>\n",
       "      <td>0.0</td>\n",
       "      <td>7.07</td>\n",
       "      <td>0.0</td>\n",
       "      <td>0.469</td>\n",
       "      <td>7.185</td>\n",
       "      <td>61.1</td>\n",
       "      <td>4.9671</td>\n",
       "      <td>2.0</td>\n",
       "      <td>242.0</td>\n",
       "      <td>17.8</td>\n",
       "      <td>392.83</td>\n",
       "      <td>4.03</td>\n",
       "    </tr>\n",
       "    <tr>\n",
       "      <th>3</th>\n",
       "      <td>0.03237</td>\n",
       "      <td>0.0</td>\n",
       "      <td>2.18</td>\n",
       "      <td>0.0</td>\n",
       "      <td>0.458</td>\n",
       "      <td>6.998</td>\n",
       "      <td>45.8</td>\n",
       "      <td>6.0622</td>\n",
       "      <td>3.0</td>\n",
       "      <td>222.0</td>\n",
       "      <td>18.7</td>\n",
       "      <td>394.63</td>\n",
       "      <td>2.94</td>\n",
       "    </tr>\n",
       "    <tr>\n",
       "      <th>4</th>\n",
       "      <td>0.06905</td>\n",
       "      <td>0.0</td>\n",
       "      <td>2.18</td>\n",
       "      <td>0.0</td>\n",
       "      <td>0.458</td>\n",
       "      <td>7.147</td>\n",
       "      <td>54.2</td>\n",
       "      <td>6.0622</td>\n",
       "      <td>3.0</td>\n",
       "      <td>222.0</td>\n",
       "      <td>18.7</td>\n",
       "      <td>396.90</td>\n",
       "      <td>5.33</td>\n",
       "    </tr>\n",
       "  </tbody>\n",
       "</table>\n",
       "</div>"
      ],
      "text/plain": [
       "      CRIM    ZN  INDUS  CHAS    NOX     RM   AGE     DIS  RAD    TAX  \\\n",
       "0  0.00632  18.0   2.31   0.0  0.538  6.575  65.2  4.0900  1.0  296.0   \n",
       "1  0.02731   0.0   7.07   0.0  0.469  6.421  78.9  4.9671  2.0  242.0   \n",
       "2  0.02729   0.0   7.07   0.0  0.469  7.185  61.1  4.9671  2.0  242.0   \n",
       "3  0.03237   0.0   2.18   0.0  0.458  6.998  45.8  6.0622  3.0  222.0   \n",
       "4  0.06905   0.0   2.18   0.0  0.458  7.147  54.2  6.0622  3.0  222.0   \n",
       "\n",
       "   PTRATIO       B  LSTAT  \n",
       "0     15.3  396.90   4.98  \n",
       "1     17.8  396.90   9.14  \n",
       "2     17.8  392.83   4.03  \n",
       "3     18.7  394.63   2.94  \n",
       "4     18.7  396.90   5.33  "
      ]
     },
     "execution_count": 8,
     "metadata": {},
     "output_type": "execute_result"
    }
   ],
   "source": [
    "X.head()"
   ]
  },
  {
   "cell_type": "code",
   "execution_count": 9,
   "metadata": {},
   "outputs": [],
   "source": [
    "y = pd.DataFrame(target, columns=['price'])"
   ]
  },
  {
   "cell_type": "code",
   "execution_count": 10,
   "metadata": {},
   "outputs": [
    {
     "data": {
      "text/html": [
       "<div>\n",
       "<style scoped>\n",
       "    .dataframe tbody tr th:only-of-type {\n",
       "        vertical-align: middle;\n",
       "    }\n",
       "\n",
       "    .dataframe tbody tr th {\n",
       "        vertical-align: top;\n",
       "    }\n",
       "\n",
       "    .dataframe thead th {\n",
       "        text-align: right;\n",
       "    }\n",
       "</style>\n",
       "<table border=\"1\" class=\"dataframe\">\n",
       "  <thead>\n",
       "    <tr style=\"text-align: right;\">\n",
       "      <th></th>\n",
       "      <th>price</th>\n",
       "    </tr>\n",
       "  </thead>\n",
       "  <tbody>\n",
       "    <tr>\n",
       "      <th>0</th>\n",
       "      <td>24.0</td>\n",
       "    </tr>\n",
       "    <tr>\n",
       "      <th>1</th>\n",
       "      <td>21.6</td>\n",
       "    </tr>\n",
       "    <tr>\n",
       "      <th>2</th>\n",
       "      <td>34.7</td>\n",
       "    </tr>\n",
       "    <tr>\n",
       "      <th>3</th>\n",
       "      <td>33.4</td>\n",
       "    </tr>\n",
       "    <tr>\n",
       "      <th>4</th>\n",
       "      <td>36.2</td>\n",
       "    </tr>\n",
       "  </tbody>\n",
       "</table>\n",
       "</div>"
      ],
      "text/plain": [
       "   price\n",
       "0   24.0\n",
       "1   21.6\n",
       "2   34.7\n",
       "3   33.4\n",
       "4   36.2"
      ]
     },
     "execution_count": 10,
     "metadata": {},
     "output_type": "execute_result"
    }
   ],
   "source": [
    "y.head()"
   ]
  },
  {
   "cell_type": "code",
   "execution_count": 11,
   "metadata": {},
   "outputs": [],
   "source": [
    "from sklearn.model_selection import train_test_split"
   ]
  },
  {
   "cell_type": "code",
   "execution_count": 12,
   "metadata": {},
   "outputs": [],
   "source": [
    "X_train, X_test, y_train, y_test = train_test_split(X, y, test_size = 0.3, random_state = 42)"
   ]
  },
  {
   "cell_type": "code",
   "execution_count": 13,
   "metadata": {},
   "outputs": [],
   "source": [
    "from sklearn.linear_model import LinearRegression"
   ]
  },
  {
   "cell_type": "code",
   "execution_count": 14,
   "metadata": {},
   "outputs": [],
   "source": [
    "lr = LinearRegression()"
   ]
  },
  {
   "cell_type": "code",
   "execution_count": 15,
   "metadata": {},
   "outputs": [
    {
     "data": {
      "text/plain": [
       "LinearRegression()"
      ]
     },
     "execution_count": 15,
     "metadata": {},
     "output_type": "execute_result"
    }
   ],
   "source": [
    "lr.fit(X_train, y_train)"
   ]
  },
  {
   "cell_type": "code",
   "execution_count": 16,
   "metadata": {},
   "outputs": [],
   "source": [
    "y_pred = lr.predict(X_test)"
   ]
  },
  {
   "cell_type": "code",
   "execution_count": 17,
   "metadata": {},
   "outputs": [],
   "source": [
    "from sklearn.metrics import r2_score"
   ]
  },
  {
   "cell_type": "code",
   "execution_count": 18,
   "metadata": {},
   "outputs": [
    {
     "data": {
      "text/plain": [
       "0.711226005748496"
      ]
     },
     "execution_count": 18,
     "metadata": {},
     "output_type": "execute_result"
    }
   ],
   "source": [
    "r2_score(y_test, y_pred)"
   ]
  },
  {
   "cell_type": "markdown",
   "metadata": {},
   "source": [
    "### Task 1.2\n",
    "Создайте модель под названием model с помощью RandomForestRegressor из модуля sklearn.ensemble.\n",
    "Сделайте агрумент n_estimators равным 1000,\n",
    "max_depth должен быть равен 12 и random_state сделайте равным 42.\n",
    "Обучите модель на тренировочных данных аналогично тому, как вы обучали модель LinearRegression,\n",
    "но при этом в метод fit вместо датафрейма y_train поставьте y_train.values[:, 0],\n",
    "чтобы получить из датафрейма одномерный массив Numpy,\n",
    "так как для класса RandomForestRegressor в данном методе для аргумента y предпочтительно применение массивов вместо датафрейма.\n",
    "Сделайте предсказание на тестовых данных и посчитайте R2. Сравните с результатом из предыдущего задания.\n",
    "Напишите в комментариях к коду, какая модель в данном случае работает лучше."
   ]
  },
  {
   "cell_type": "code",
   "execution_count": 19,
   "metadata": {},
   "outputs": [],
   "source": [
    "from sklearn.ensemble import RandomForestRegressor"
   ]
  },
  {
   "cell_type": "code",
   "execution_count": 20,
   "metadata": {},
   "outputs": [],
   "source": [
    "model = RandomForestRegressor(n_estimators = 1000, max_depth = 12, random_state = 42)"
   ]
  },
  {
   "cell_type": "code",
   "execution_count": 21,
   "metadata": {},
   "outputs": [
    {
     "data": {
      "text/plain": [
       "RandomForestRegressor(max_depth=12, n_estimators=1000, random_state=42)"
      ]
     },
     "execution_count": 21,
     "metadata": {},
     "output_type": "execute_result"
    }
   ],
   "source": [
    "model.fit(X_train, y_train.values[:, 0])"
   ]
  },
  {
   "cell_type": "code",
   "execution_count": 22,
   "metadata": {},
   "outputs": [],
   "source": [
    "y_pred = model.predict(X_test)"
   ]
  },
  {
   "cell_type": "code",
   "execution_count": 23,
   "metadata": {},
   "outputs": [
    {
     "data": {
      "text/plain": [
       "0.87472606157312"
      ]
     },
     "execution_count": 23,
     "metadata": {},
     "output_type": "execute_result"
    }
   ],
   "source": [
    "r2_score(y_test, y_pred)"
   ]
  },
  {
   "cell_type": "markdown",
   "metadata": {},
   "source": [
    "Лучше работает вторая модель RandomForestRegressor, так как у неё R2 ближе к 1."
   ]
  },
  {
   "cell_type": "markdown",
   "metadata": {},
   "source": [
    "### Task 1.3\n",
    "Вызовите документацию для класса RandomForestRegressor,\n",
    "найдите информацию об атрибуте feature_importances_.\n",
    "С помощью этого атрибута найдите сумму всех показателей важности,\n",
    "установите, какие два признака показывают наибольшую важность."
   ]
  },
  {
   "cell_type": "code",
   "execution_count": 24,
   "metadata": {},
   "outputs": [],
   "source": [
    "? RandomForestRegressor"
   ]
  },
  {
   "cell_type": "markdown",
   "metadata": {},
   "source": [
    "feature_importances_ : ndarray of shape (n_features,)\n",
    "    The impurity-based feature importances.\n",
    "    The higher, the more important the feature.\n",
    "    The importance of a feature is computed as the (normalized)\n",
    "    total reduction of the criterion brought by that feature.  It is also\n",
    "    known as the Gini importance.\n",
    "\n",
    "    Warning: impurity-based feature importances can be misleading for\n",
    "    high cardinality features (many unique values). See\n",
    "    :func:`sklearn.inspection.permutation_importance` as an alternative.\n",
    "-------------------------------------------------------------------------------------------------\n",
    "feature_importances_ : ndarray of shape (n_features,)\n",
    "    Важность признака, основанного на примесях.\n",
    "    Чем выше, тем важнее признак.\n",
    "    Важность признака вычисляется как (нормализованная)\n",
    "    полное сокращение критерия, вызванного этим признаком. Это также\n",
    "    известный как важность Джини.\n",
    "\n",
    "    Предупреждение: важность признаков, основанных на примесях, может ввести в заблуждение\n",
    "    особенности высокой мощности (много уникальных значений). Видеть\n",
    "    :func:`sklearn.inspection.permutation_importance` в качестве альтернативы."
   ]
  },
  {
   "cell_type": "code",
   "execution_count": 25,
   "metadata": {},
   "outputs": [
    {
     "data": {
      "text/plain": [
       "array([0.03167574, 0.00154252, 0.00713813, 0.00123624, 0.01426897,\n",
       "       0.40268179, 0.01429864, 0.06397257, 0.00528122, 0.01152493,\n",
       "       0.01808108, 0.01245085, 0.41584732])"
      ]
     },
     "execution_count": 25,
     "metadata": {},
     "output_type": "execute_result"
    }
   ],
   "source": [
    "model.feature_importances_"
   ]
  },
  {
   "cell_type": "code",
   "execution_count": 26,
   "metadata": {},
   "outputs": [],
   "source": [
    "import matplotlib.pyplot as plt\n",
    "%matplotlib inline"
   ]
  },
  {
   "cell_type": "code",
   "execution_count": 27,
   "metadata": {},
   "outputs": [
    {
     "data": {
      "image/png": "[encoded data removed]",
      "text/plain": [
       "<Figure size 432x288 with 1 Axes>"
      ]
     },
     "metadata": {
      "needs_background": "light"
     },
     "output_type": "display_data"
    }
   ],
   "source": [
    "pd.Series(data = model.feature_importances_, index = feature_names).plot(kind='barh')\n",
    "plt.show()"
   ]
  },
  {
   "cell_type": "code",
   "execution_count": 28,
   "metadata": {},
   "outputs": [
    {
     "data": {
      "text/plain": [
       "1.0"
      ]
     },
     "execution_count": 28,
     "metadata": {},
     "output_type": "execute_result"
    }
   ],
   "source": [
    "model.feature_importances_.sum()"
   ]
  },
  {
   "cell_type": "code",
   "execution_count": 29,
   "metadata": {},
   "outputs": [
    {
     "data": {
      "text/plain": [
       "array([0.41584732, 0.40268179])"
      ]
     },
     "execution_count": 29,
     "metadata": {},
     "output_type": "execute_result"
    }
   ],
   "source": [
    "np.sort(model.feature_importances_)[::-1][0:2]"
   ]
  },
  {
   "cell_type": "markdown",
   "metadata": {},
   "source": [
    "### Task 1.4\n",
    "В этом задании мы будем работать с датасетом, с которым мы уже знакомы по домашнему заданию по библиотеке Matplotlib, это датасет Credit Card Fraud Detection.Для этого датасета мы будем решать задачу классификации - будем определять,какие из транзакциции по кредитной карте являются мошенническими.Данный датасет сильно несбалансирован (так как случаи мошенничества относительно редки),так что применение метрики accuracy не принесет пользы и не поможет выбрать лучшую модель.Мы будем вычислять AUC, то есть площадь под кривой ROC.\n",
    "Импортируйте из соответствующих модулей RandomForestClassifier, GridSearchCV и train_test_split.\n",
    "Загрузите датасет creditcard.csv и создайте датафрейм df.\n",
    "С помощью метода value_counts с аргументом normalize=True убедитесь в том, что выборка несбалансирована.Используя метод info, проверьте, все ли столбцы содержат числовые данные и нет ли в них пропусков.Примените следующую настройку, чтобы можно было просматривать все столбцы датафрейма:\n",
    "pd.options.display.max_columns = 100.\n",
    "Просмотрите первые 10 строк датафрейма df.\n",
    "Создайте датафрейм X из датафрейма df, исключив столбец Class.\n",
    "Создайте объект Series под названием y из столбца Class.\n",
    "Разбейте X и y на тренировочный и тестовый наборы данных при помощи функции train_test_split, используя аргументы: test_size=0.3, random_state=100, stratify=y.\n",
    "У вас должны получиться объекты X_train, X_test, y_train и y_test.\n",
    "Просмотрите информацию о их форме.\n",
    "Для поиска по сетке параметров задайте такие параметры:\n",
    "parameters = [{'n_estimators': [10, 15],\n",
    "'max_features': np.arange(3, 5),\n",
    "'max_depth': np.arange(4, 7)}]\n",
    "Создайте модель GridSearchCV со следующими аргументами:\n",
    "estimator=RandomForestClassifier(random_state=100),\n",
    "param_grid=parameters,\n",
    "scoring='roc_auc',\n",
    "cv=3.\n",
    "Обучите модель на тренировочном наборе данных (может занять несколько минут).\n",
    "Просмотрите параметры лучшей модели с помощью атрибута best_params_.\n",
    "Предскажите вероятности классов с помощью полученнной модели и метода predict_proba.\n",
    "Из полученного результата (массив Numpy) выберите столбец с индексом 1 (вероятность класса 1) и запишите в массив y_pred_proba. Из модуля sklearn.metrics импортируйте метрику roc_auc_score.\n",
    "Вычислите AUC на тестовых данных и сравните с результатом,полученным на тренировочных данных, используя в качестве аргументов массивы y_test и y_pred_proba."
   ]
  },
  {
   "cell_type": "code",
   "execution_count": 30,
   "metadata": {},
   "outputs": [],
   "source": [
    "from sklearn.ensemble import RandomForestClassifier\n",
    "from sklearn.model_selection import GridSearchCV"
   ]
  },
  {
   "cell_type": "code",
   "execution_count": 31,
   "metadata": {},
   "outputs": [],
   "source": [
    "df = pd.read_csv(\"creditcard.csv\")"
   ]
  },
  {
   "cell_type": "code",
   "execution_count": 32,
   "metadata": {},
   "outputs": [
    {
     "data": {
      "image/png": "[encoded data removed]",
      "text/plain": [
       "<Figure size 432x288 with 1 Axes>"
      ]
     },
     "metadata": {
      "needs_background": "light"
     },
     "output_type": "display_data"
    }
   ],
   "source": [
    "df['Class'].value_counts(normalize=True).plot(kind='bar')\n",
    "plt.show()"
   ]
  },
  {
   "cell_type": "code",
   "execution_count": 33,
   "metadata": {},
   "outputs": [
    {
     "name": "stdout",
     "output_type": "stream",
     "text": [
      "<class 'pandas.core.frame.DataFrame'>\n",
      "RangeIndex: 284807 entries, 0 to 284806\n",
      "Data columns (total 31 columns):\n",
      " #   Column  Non-Null Count   Dtype  \n",
      "---  ------  --------------   -----  \n",
      " 0   Time    284807 non-null  float64\n",
      " 1   V1      284807 non-null  float64\n",
      " 2   V2      284807 non-null  float64\n",
      " 3   V3      284807 non-null  float64\n",
      " 4   V4      284807 non-null  float64\n",
      " 5   V5      284807 non-null  float64\n",
      " 6   V6      284807 non-null  float64\n",
      " 7   V7      284807 non-null  float64\n",
      " 8   V8      284807 non-null  float64\n",
      " 9   V9      284807 non-null  float64\n",
      " 10  V10     284807 non-null  float64\n",
      " 11  V11     284807 non-null  float64\n",
      " 12  V12     284807 non-null  float64\n",
      " 13  V13     284807 non-null  float64\n",
      " 14  V14     284807 non-null  float64\n",
      " 15  V15     284807 non-null  float64\n",
      " 16  V16     284807 non-null  float64\n",
      " 17  V17     284807 non-null  float64\n",
      " 18  V18     284807 non-null  float64\n",
      " 19  V19     284807 non-null  float64\n",
      " 20  V20     284807 non-null  float64\n",
      " 21  V21     284807 non-null  float64\n",
      " 22  V22     284807 non-null  float64\n",
      " 23  V23     284807 non-null  float64\n",
      " 24  V24     284807 non-null  float64\n",
      " 25  V25     284807 non-null  float64\n",
      " 26  V26     284807 non-null  float64\n",
      " 27  V27     284807 non-null  float64\n",
      " 28  V28     284807 non-null  float64\n",
      " 29  Amount  284807 non-null  float64\n",
      " 30  Class   284807 non-null  int64  \n",
      "dtypes: float64(30), int64(1)\n",
      "memory usage: 67.4 MB\n"
     ]
    }
   ],
   "source": [
    "df.info()"
   ]
  },
  {
   "cell_type": "code",
   "execution_count": 34,
   "metadata": {},
   "outputs": [],
   "source": [
    "pd.options.display.max_columns = 100"
   ]
  },
  {
   "cell_type": "code",
   "execution_count": 35,
   "metadata": {},
   "outputs": [
    {
     "data": {
      "text/html": [
       "<div>\n",
       "<style scoped>\n",
       "    .dataframe tbody tr th:only-of-type {\n",
       "        vertical-align: middle;\n",
       "    }\n",
       "\n",
       "    .dataframe tbody tr th {\n",
       "        vertical-align: top;\n",
       "    }\n",
       "\n",
       "    .dataframe thead th {\n",
       "        text-align: right;\n",
       "    }\n",
       "</style>\n",
       "<table border=\"1\" class=\"dataframe\">\n",
       "  <thead>\n",
       "    <tr style=\"text-align: right;\">\n",
       "      <th></th>\n",
       "      <th>Time</th>\n",
       "      <th>V1</th>\n",
       "      <th>V2</th>\n",
       "      <th>V3</th>\n",
       "      <th>V4</th>\n",
       "      <th>V5</th>\n",
       "      <th>V6</th>\n",
       "      <th>V7</th>\n",
       "      <th>V8</th>\n",
       "      <th>V9</th>\n",
       "      <th>V10</th>\n",
       "      <th>V11</th>\n",
       "      <th>V12</th>\n",
       "      <th>V13</th>\n",
       "      <th>V14</th>\n",
       "      <th>V15</th>\n",
       "      <th>V16</th>\n",
       "      <th>V17</th>\n",
       "      <th>V18</th>\n",
       "      <th>V19</th>\n",
       "      <th>V20</th>\n",
       "      <th>V21</th>\n",
       "      <th>V22</th>\n",
       "      <th>V23</th>\n",
       "      <th>V24</th>\n",
       "      <th>V25</th>\n",
       "      <th>V26</th>\n",
       "      <th>V27</th>\n",
       "      <th>V28</th>\n",
       "      <th>Amount</th>\n",
       "      <th>Class</th>\n",
       "    </tr>\n",
       "  </thead>\n",
       "  <tbody>\n",
       "    <tr>\n",
       "      <th>0</th>\n",
       "      <td>0.0</td>\n",
       "      <td>-1.359807</td>\n",
       "      <td>-0.072781</td>\n",
       "      <td>2.536347</td>\n",
       "      <td>1.378155</td>\n",
       "      <td>-0.338321</td>\n",
       "      <td>0.462388</td>\n",
       "      <td>0.239599</td>\n",
       "      <td>0.098698</td>\n",
       "      <td>0.363787</td>\n",
       "      <td>0.090794</td>\n",
       "      <td>-0.551600</td>\n",
       "      <td>-0.617801</td>\n",
       "      <td>-0.991390</td>\n",
       "      <td>-0.311169</td>\n",
       "      <td>1.468177</td>\n",
       "      <td>-0.470401</td>\n",
       "      <td>0.207971</td>\n",
       "      <td>0.025791</td>\n",
       "      <td>0.403993</td>\n",
       "      <td>0.251412</td>\n",
       "      <td>-0.018307</td>\n",
       "      <td>0.277838</td>\n",
       "      <td>-0.110474</td>\n",
       "      <td>0.066928</td>\n",
       "      <td>0.128539</td>\n",
       "      <td>-0.189115</td>\n",
       "      <td>0.133558</td>\n",
       "      <td>-0.021053</td>\n",
       "      <td>149.62</td>\n",
       "      <td>0</td>\n",
       "    </tr>\n",
       "    <tr>\n",
       "      <th>1</th>\n",
       "      <td>0.0</td>\n",
       "      <td>1.191857</td>\n",
       "      <td>0.266151</td>\n",
       "      <td>0.166480</td>\n",
       "      <td>0.448154</td>\n",
       "      <td>0.060018</td>\n",
       "      <td>-0.082361</td>\n",
       "      <td>-0.078803</td>\n",
       "      <td>0.085102</td>\n",
       "      <td>-0.255425</td>\n",
       "      <td>-0.166974</td>\n",
       "      <td>1.612727</td>\n",
       "      <td>1.065235</td>\n",
       "      <td>0.489095</td>\n",
       "      <td>-0.143772</td>\n",
       "      <td>0.635558</td>\n",
       "      <td>0.463917</td>\n",
       "      <td>-0.114805</td>\n",
       "      <td>-0.183361</td>\n",
       "      <td>-0.145783</td>\n",
       "      <td>-0.069083</td>\n",
       "      <td>-0.225775</td>\n",
       "      <td>-0.638672</td>\n",
       "      <td>0.101288</td>\n",
       "      <td>-0.339846</td>\n",
       "      <td>0.167170</td>\n",
       "      <td>0.125895</td>\n",
       "      <td>-0.008983</td>\n",
       "      <td>0.014724</td>\n",
       "      <td>2.69</td>\n",
       "      <td>0</td>\n",
       "    </tr>\n",
       "    <tr>\n",
       "      <th>2</th>\n",
       "      <td>1.0</td>\n",
       "      <td>-1.358354</td>\n",
       "      <td>-1.340163</td>\n",
       "      <td>1.773209</td>\n",
       "      <td>0.379780</td>\n",
       "      <td>-0.503198</td>\n",
       "      <td>1.800499</td>\n",
       "      <td>0.791461</td>\n",
       "      <td>0.247676</td>\n",
       "      <td>-1.514654</td>\n",
       "      <td>0.207643</td>\n",
       "      <td>0.624501</td>\n",
       "      <td>0.066084</td>\n",
       "      <td>0.717293</td>\n",
       "      <td>-0.165946</td>\n",
       "      <td>2.345865</td>\n",
       "      <td>-2.890083</td>\n",
       "      <td>1.109969</td>\n",
       "      <td>-0.121359</td>\n",
       "      <td>-2.261857</td>\n",
       "      <td>0.524980</td>\n",
       "      <td>0.247998</td>\n",
       "      <td>0.771679</td>\n",
       "      <td>0.909412</td>\n",
       "      <td>-0.689281</td>\n",
       "      <td>-0.327642</td>\n",
       "      <td>-0.139097</td>\n",
       "      <td>-0.055353</td>\n",
       "      <td>-0.059752</td>\n",
       "      <td>378.66</td>\n",
       "      <td>0</td>\n",
       "    </tr>\n",
       "    <tr>\n",
       "      <th>3</th>\n",
       "      <td>1.0</td>\n",
       "      <td>-0.966272</td>\n",
       "      <td>-0.185226</td>\n",
       "      <td>1.792993</td>\n",
       "      <td>-0.863291</td>\n",
       "      <td>-0.010309</td>\n",
       "      <td>1.247203</td>\n",
       "      <td>0.237609</td>\n",
       "      <td>0.377436</td>\n",
       "      <td>-1.387024</td>\n",
       "      <td>-0.054952</td>\n",
       "      <td>-0.226487</td>\n",
       "      <td>0.178228</td>\n",
       "      <td>0.507757</td>\n",
       "      <td>-0.287924</td>\n",
       "      <td>-0.631418</td>\n",
       "      <td>-1.059647</td>\n",
       "      <td>-0.684093</td>\n",
       "      <td>1.965775</td>\n",
       "      <td>-1.232622</td>\n",
       "      <td>-0.208038</td>\n",
       "      <td>-0.108300</td>\n",
       "      <td>0.005274</td>\n",
       "      <td>-0.190321</td>\n",
       "      <td>-1.175575</td>\n",
       "      <td>0.647376</td>\n",
       "      <td>-0.221929</td>\n",
       "      <td>0.062723</td>\n",
       "      <td>0.061458</td>\n",
       "      <td>123.50</td>\n",
       "      <td>0</td>\n",
       "    </tr>\n",
       "    <tr>\n",
       "      <th>4</th>\n",
       "      <td>2.0</td>\n",
       "      <td>-1.158233</td>\n",
       "      <td>0.877737</td>\n",
       "      <td>1.548718</td>\n",
       "      <td>0.403034</td>\n",
       "      <td>-0.407193</td>\n",
       "      <td>0.095921</td>\n",
       "      <td>0.592941</td>\n",
       "      <td>-0.270533</td>\n",
       "      <td>0.817739</td>\n",
       "      <td>0.753074</td>\n",
       "      <td>-0.822843</td>\n",
       "      <td>0.538196</td>\n",
       "      <td>1.345852</td>\n",
       "      <td>-1.119670</td>\n",
       "      <td>0.175121</td>\n",
       "      <td>-0.451449</td>\n",
       "      <td>-0.237033</td>\n",
       "      <td>-0.038195</td>\n",
       "      <td>0.803487</td>\n",
       "      <td>0.408542</td>\n",
       "      <td>-0.009431</td>\n",
       "      <td>0.798278</td>\n",
       "      <td>-0.137458</td>\n",
       "      <td>0.141267</td>\n",
       "      <td>-0.206010</td>\n",
       "      <td>0.502292</td>\n",
       "      <td>0.219422</td>\n",
       "      <td>0.215153</td>\n",
       "      <td>69.99</td>\n",
       "      <td>0</td>\n",
       "    </tr>\n",
       "    <tr>\n",
       "      <th>5</th>\n",
       "      <td>2.0</td>\n",
       "      <td>-0.425966</td>\n",
       "      <td>0.960523</td>\n",
       "      <td>1.141109</td>\n",
       "      <td>-0.168252</td>\n",
       "      <td>0.420987</td>\n",
       "      <td>-0.029728</td>\n",
       "      <td>0.476201</td>\n",
       "      <td>0.260314</td>\n",
       "      <td>-0.568671</td>\n",
       "      <td>-0.371407</td>\n",
       "      <td>1.341262</td>\n",
       "      <td>0.359894</td>\n",
       "      <td>-0.358091</td>\n",
       "      <td>-0.137134</td>\n",
       "      <td>0.517617</td>\n",
       "      <td>0.401726</td>\n",
       "      <td>-0.058133</td>\n",
       "      <td>0.068653</td>\n",
       "      <td>-0.033194</td>\n",
       "      <td>0.084968</td>\n",
       "      <td>-0.208254</td>\n",
       "      <td>-0.559825</td>\n",
       "      <td>-0.026398</td>\n",
       "      <td>-0.371427</td>\n",
       "      <td>-0.232794</td>\n",
       "      <td>0.105915</td>\n",
       "      <td>0.253844</td>\n",
       "      <td>0.081080</td>\n",
       "      <td>3.67</td>\n",
       "      <td>0</td>\n",
       "    </tr>\n",
       "    <tr>\n",
       "      <th>6</th>\n",
       "      <td>4.0</td>\n",
       "      <td>1.229658</td>\n",
       "      <td>0.141004</td>\n",
       "      <td>0.045371</td>\n",
       "      <td>1.202613</td>\n",
       "      <td>0.191881</td>\n",
       "      <td>0.272708</td>\n",
       "      <td>-0.005159</td>\n",
       "      <td>0.081213</td>\n",
       "      <td>0.464960</td>\n",
       "      <td>-0.099254</td>\n",
       "      <td>-1.416907</td>\n",
       "      <td>-0.153826</td>\n",
       "      <td>-0.751063</td>\n",
       "      <td>0.167372</td>\n",
       "      <td>0.050144</td>\n",
       "      <td>-0.443587</td>\n",
       "      <td>0.002821</td>\n",
       "      <td>-0.611987</td>\n",
       "      <td>-0.045575</td>\n",
       "      <td>-0.219633</td>\n",
       "      <td>-0.167716</td>\n",
       "      <td>-0.270710</td>\n",
       "      <td>-0.154104</td>\n",
       "      <td>-0.780055</td>\n",
       "      <td>0.750137</td>\n",
       "      <td>-0.257237</td>\n",
       "      <td>0.034507</td>\n",
       "      <td>0.005168</td>\n",
       "      <td>4.99</td>\n",
       "      <td>0</td>\n",
       "    </tr>\n",
       "    <tr>\n",
       "      <th>7</th>\n",
       "      <td>7.0</td>\n",
       "      <td>-0.644269</td>\n",
       "      <td>1.417964</td>\n",
       "      <td>1.074380</td>\n",
       "      <td>-0.492199</td>\n",
       "      <td>0.948934</td>\n",
       "      <td>0.428118</td>\n",
       "      <td>1.120631</td>\n",
       "      <td>-3.807864</td>\n",
       "      <td>0.615375</td>\n",
       "      <td>1.249376</td>\n",
       "      <td>-0.619468</td>\n",
       "      <td>0.291474</td>\n",
       "      <td>1.757964</td>\n",
       "      <td>-1.323865</td>\n",
       "      <td>0.686133</td>\n",
       "      <td>-0.076127</td>\n",
       "      <td>-1.222127</td>\n",
       "      <td>-0.358222</td>\n",
       "      <td>0.324505</td>\n",
       "      <td>-0.156742</td>\n",
       "      <td>1.943465</td>\n",
       "      <td>-1.015455</td>\n",
       "      <td>0.057504</td>\n",
       "      <td>-0.649709</td>\n",
       "      <td>-0.415267</td>\n",
       "      <td>-0.051634</td>\n",
       "      <td>-1.206921</td>\n",
       "      <td>-1.085339</td>\n",
       "      <td>40.80</td>\n",
       "      <td>0</td>\n",
       "    </tr>\n",
       "    <tr>\n",
       "      <th>8</th>\n",
       "      <td>7.0</td>\n",
       "      <td>-0.894286</td>\n",
       "      <td>0.286157</td>\n",
       "      <td>-0.113192</td>\n",
       "      <td>-0.271526</td>\n",
       "      <td>2.669599</td>\n",
       "      <td>3.721818</td>\n",
       "      <td>0.370145</td>\n",
       "      <td>0.851084</td>\n",
       "      <td>-0.392048</td>\n",
       "      <td>-0.410430</td>\n",
       "      <td>-0.705117</td>\n",
       "      <td>-0.110452</td>\n",
       "      <td>-0.286254</td>\n",
       "      <td>0.074355</td>\n",
       "      <td>-0.328783</td>\n",
       "      <td>-0.210077</td>\n",
       "      <td>-0.499768</td>\n",
       "      <td>0.118765</td>\n",
       "      <td>0.570328</td>\n",
       "      <td>0.052736</td>\n",
       "      <td>-0.073425</td>\n",
       "      <td>-0.268092</td>\n",
       "      <td>-0.204233</td>\n",
       "      <td>1.011592</td>\n",
       "      <td>0.373205</td>\n",
       "      <td>-0.384157</td>\n",
       "      <td>0.011747</td>\n",
       "      <td>0.142404</td>\n",
       "      <td>93.20</td>\n",
       "      <td>0</td>\n",
       "    </tr>\n",
       "    <tr>\n",
       "      <th>9</th>\n",
       "      <td>9.0</td>\n",
       "      <td>-0.338262</td>\n",
       "      <td>1.119593</td>\n",
       "      <td>1.044367</td>\n",
       "      <td>-0.222187</td>\n",
       "      <td>0.499361</td>\n",
       "      <td>-0.246761</td>\n",
       "      <td>0.651583</td>\n",
       "      <td>0.069539</td>\n",
       "      <td>-0.736727</td>\n",
       "      <td>-0.366846</td>\n",
       "      <td>1.017614</td>\n",
       "      <td>0.836390</td>\n",
       "      <td>1.006844</td>\n",
       "      <td>-0.443523</td>\n",
       "      <td>0.150219</td>\n",
       "      <td>0.739453</td>\n",
       "      <td>-0.540980</td>\n",
       "      <td>0.476677</td>\n",
       "      <td>0.451773</td>\n",
       "      <td>0.203711</td>\n",
       "      <td>-0.246914</td>\n",
       "      <td>-0.633753</td>\n",
       "      <td>-0.120794</td>\n",
       "      <td>-0.385050</td>\n",
       "      <td>-0.069733</td>\n",
       "      <td>0.094199</td>\n",
       "      <td>0.246219</td>\n",
       "      <td>0.083076</td>\n",
       "      <td>3.68</td>\n",
       "      <td>0</td>\n",
       "    </tr>\n",
       "  </tbody>\n",
       "</table>\n",
       "</div>"
      ],
      "text/plain": [
       "   Time        V1        V2        V3        V4        V5        V6        V7  \\\n",
       "0   0.0 -1.359807 -0.072781  2.536347  1.378155 -0.338321  0.462388  0.239599   \n",
       "1   0.0  1.191857  0.266151  0.166480  0.448154  0.060018 -0.082361 -0.078803   \n",
       "2   1.0 -1.358354 -1.340163  1.773209  0.379780 -0.503198  1.800499  0.791461   \n",
       "3   1.0 -0.966272 -0.185226  1.792993 -0.863291 -0.010309  1.247203  0.237609   \n",
       "4   2.0 -1.158233  0.877737  1.548718  0.403034 -0.407193  0.095921  0.592941   \n",
       "5   2.0 -0.425966  0.960523  1.141109 -0.168252  0.420987 -0.029728  0.476201   \n",
       "6   4.0  1.229658  0.141004  0.045371  1.202613  0.191881  0.272708 -0.005159   \n",
       "7   7.0 -0.644269  1.417964  1.074380 -0.492199  0.948934  0.428118  1.120631   \n",
       "8   7.0 -0.894286  0.286157 -0.113192 -0.271526  2.669599  3.721818  0.370145   \n",
       "9   9.0 -0.338262  1.119593  1.044367 -0.222187  0.499361 -0.246761  0.651583   \n",
       "\n",
       "         V8        V9       V10       V11       V12       V13       V14  \\\n",
       "0  0.098698  0.363787  0.090794 -0.551600 -0.617801 -0.991390 -0.311169   \n",
       "1  0.085102 -0.255425 -0.166974  1.612727  1.065235  0.489095 -0.143772   \n",
       "2  0.247676 -1.514654  0.207643  0.624501  0.066084  0.717293 -0.165946   \n",
       "3  0.377436 -1.387024 -0.054952 -0.226487  0.178228  0.507757 -0.287924   \n",
       "4 -0.270533  0.817739  0.753074 -0.822843  0.538196  1.345852 -1.119670   \n",
       "5  0.260314 -0.568671 -0.371407  1.341262  0.359894 -0.358091 -0.137134   \n",
       "6  0.081213  0.464960 -0.099254 -1.416907 -0.153826 -0.751063  0.167372   \n",
       "7 -3.807864  0.615375  1.249376 -0.619468  0.291474  1.757964 -1.323865   \n",
       "8  0.851084 -0.392048 -0.410430 -0.705117 -0.110452 -0.286254  0.074355   \n",
       "9  0.069539 -0.736727 -0.366846  1.017614  0.836390  1.006844 -0.443523   \n",
       "\n",
       "        V15       V16       V17       V18       V19       V20       V21  \\\n",
       "0  1.468177 -0.470401  0.207971  0.025791  0.403993  0.251412 -0.018307   \n",
       "1  0.635558  0.463917 -0.114805 -0.183361 -0.145783 -0.069083 -0.225775   \n",
       "2  2.345865 -2.890083  1.109969 -0.121359 -2.261857  0.524980  0.247998   \n",
       "3 -0.631418 -1.059647 -0.684093  1.965775 -1.232622 -0.208038 -0.108300   \n",
       "4  0.175121 -0.451449 -0.237033 -0.038195  0.803487  0.408542 -0.009431   \n",
       "5  0.517617  0.401726 -0.058133  0.068653 -0.033194  0.084968 -0.208254   \n",
       "6  0.050144 -0.443587  0.002821 -0.611987 -0.045575 -0.219633 -0.167716   \n",
       "7  0.686133 -0.076127 -1.222127 -0.358222  0.324505 -0.156742  1.943465   \n",
       "8 -0.328783 -0.210077 -0.499768  0.118765  0.570328  0.052736 -0.073425   \n",
       "9  0.150219  0.739453 -0.540980  0.476677  0.451773  0.203711 -0.246914   \n",
       "\n",
       "        V22       V23       V24       V25       V26       V27       V28  \\\n",
       "0  0.277838 -0.110474  0.066928  0.128539 -0.189115  0.133558 -0.021053   \n",
       "1 -0.638672  0.101288 -0.339846  0.167170  0.125895 -0.008983  0.014724   \n",
       "2  0.771679  0.909412 -0.689281 -0.327642 -0.139097 -0.055353 -0.059752   \n",
       "3  0.005274 -0.190321 -1.175575  0.647376 -0.221929  0.062723  0.061458   \n",
       "4  0.798278 -0.137458  0.141267 -0.206010  0.502292  0.219422  0.215153   \n",
       "5 -0.559825 -0.026398 -0.371427 -0.232794  0.105915  0.253844  0.081080   \n",
       "6 -0.270710 -0.154104 -0.780055  0.750137 -0.257237  0.034507  0.005168   \n",
       "7 -1.015455  0.057504 -0.649709 -0.415267 -0.051634 -1.206921 -1.085339   \n",
       "8 -0.268092 -0.204233  1.011592  0.373205 -0.384157  0.011747  0.142404   \n",
       "9 -0.633753 -0.120794 -0.385050 -0.069733  0.094199  0.246219  0.083076   \n",
       "\n",
       "   Amount  Class  \n",
       "0  149.62      0  \n",
       "1    2.69      0  \n",
       "2  378.66      0  \n",
       "3  123.50      0  \n",
       "4   69.99      0  \n",
       "5    3.67      0  \n",
       "6    4.99      0  \n",
       "7   40.80      0  \n",
       "8   93.20      0  \n",
       "9    3.68      0  "
      ]
     },
     "execution_count": 35,
     "metadata": {},
     "output_type": "execute_result"
    }
   ],
   "source": [
    "df.head(10)"
   ]
  },
  {
   "cell_type": "code",
   "execution_count": 36,
   "metadata": {},
   "outputs": [],
   "source": [
    "X = df.drop('Class', axis = 1)\n",
    "y = df['Class']"
   ]
  },
  {
   "cell_type": "code",
   "execution_count": 37,
   "metadata": {},
   "outputs": [],
   "source": [
    "X_train, X_test, y_train, y_test = train_test_split(X, y, test_size = 0.3, random_state = 100, stratify=y)"
   ]
  },
  {
   "cell_type": "code",
   "execution_count": 38,
   "metadata": {},
   "outputs": [
    {
     "name": "stdout",
     "output_type": "stream",
     "text": [
      "<class 'pandas.core.frame.DataFrame'>\n",
      "Int64Index: 199364 entries, 222925 to 271\n",
      "Data columns (total 30 columns):\n",
      " #   Column  Non-Null Count   Dtype  \n",
      "---  ------  --------------   -----  \n",
      " 0   Time    199364 non-null  float64\n",
      " 1   V1      199364 non-null  float64\n",
      " 2   V2      199364 non-null  float64\n",
      " 3   V3      199364 non-null  float64\n",
      " 4   V4      199364 non-null  float64\n",
      " 5   V5      199364 non-null  float64\n",
      " 6   V6      199364 non-null  float64\n",
      " 7   V7      199364 non-null  float64\n",
      " 8   V8      199364 non-null  float64\n",
      " 9   V9      199364 non-null  float64\n",
      " 10  V10     199364 non-null  float64\n",
      " 11  V11     199364 non-null  float64\n",
      " 12  V12     199364 non-null  float64\n",
      " 13  V13     199364 non-null  float64\n",
      " 14  V14     199364 non-null  float64\n",
      " 15  V15     199364 non-null  float64\n",
      " 16  V16     199364 non-null  float64\n",
      " 17  V17     199364 non-null  float64\n",
      " 18  V18     199364 non-null  float64\n",
      " 19  V19     199364 non-null  float64\n",
      " 20  V20     199364 non-null  float64\n",
      " 21  V21     199364 non-null  float64\n",
      " 22  V22     199364 non-null  float64\n",
      " 23  V23     199364 non-null  float64\n",
      " 24  V24     199364 non-null  float64\n",
      " 25  V25     199364 non-null  float64\n",
      " 26  V26     199364 non-null  float64\n",
      " 27  V27     199364 non-null  float64\n",
      " 28  V28     199364 non-null  float64\n",
      " 29  Amount  199364 non-null  float64\n",
      "dtypes: float64(30)\n",
      "memory usage: 47.2 MB\n"
     ]
    }
   ],
   "source": [
    "X_train.info()"
   ]
  },
  {
   "cell_type": "code",
   "execution_count": 39,
   "metadata": {},
   "outputs": [
    {
     "data": {
      "text/plain": [
       "262922    0\n",
       "123418    0\n",
       "206135    0\n",
       "273483    0\n",
       "245758    0\n",
       "         ..\n",
       "109541    0\n",
       "41813     0\n",
       "16722     0\n",
       "36147     0\n",
       "198375    0\n",
       "Name: Class, Length: 85443, dtype: int64"
      ]
     },
     "execution_count": 39,
     "metadata": {},
     "output_type": "execute_result"
    }
   ],
   "source": [
    "y_test"
   ]
  },
  {
   "cell_type": "code",
   "execution_count": 40,
   "metadata": {},
   "outputs": [],
   "source": [
    "parameters = [{'n_estimators': [10, 15], \n",
    "               'max_features': np.arange(3, 5), \n",
    "               'max_depth': np.arange(4, 7)}]"
   ]
  },
  {
   "cell_type": "code",
   "execution_count": 41,
   "metadata": {},
   "outputs": [],
   "source": [
    "clf = GridSearchCV(estimator=RandomForestClassifier(random_state=100), \n",
    "                   param_grid=parameters, \n",
    "                   scoring='roc_auc', \n",
    "                   cv=3)"
   ]
  },
  {
   "cell_type": "code",
   "execution_count": 42,
   "metadata": {},
   "outputs": [
    {
     "data": {
      "text/plain": [
       "GridSearchCV(cv=3, estimator=RandomForestClassifier(random_state=100),\n",
       "             param_grid=[{'max_depth': array([4, 5, 6]),\n",
       "                          'max_features': array([3, 4]),\n",
       "                          'n_estimators': [10, 15]}],\n",
       "             scoring='roc_auc')"
      ]
     },
     "execution_count": 42,
     "metadata": {},
     "output_type": "execute_result"
    }
   ],
   "source": [
    "clf.fit(X_train, y_train)"
   ]
  },
  {
   "cell_type": "code",
   "execution_count": 43,
   "metadata": {},
   "outputs": [
    {
     "data": {
      "text/plain": [
       "{'max_depth': 6, 'max_features': 3, 'n_estimators': 15}"
      ]
     },
     "execution_count": 43,
     "metadata": {},
     "output_type": "execute_result"
    }
   ],
   "source": [
    "clf.best_params_"
   ]
  },
  {
   "cell_type": "code",
   "execution_count": 44,
   "metadata": {},
   "outputs": [],
   "source": [
    "y_pred_proba = clf.predict_proba(X_test)[:,1]"
   ]
  },
  {
   "cell_type": "code",
   "execution_count": 45,
   "metadata": {},
   "outputs": [],
   "source": [
    "from sklearn.metrics import roc_auc_score"
   ]
  },
  {
   "cell_type": "code",
   "execution_count": 46,
   "metadata": {},
   "outputs": [
    {
     "data": {
      "text/plain": [
       "0.9462664156037156"
      ]
     },
     "execution_count": 46,
     "metadata": {},
     "output_type": "execute_result"
    }
   ],
   "source": [
    "roc_auc_score(y_test, y_pred_proba)"
   ]
  },
  {
   "cell_type": "code",
   "execution_count": 47,
   "metadata": {},
   "outputs": [],
   "source": [
    "y_pred_proba_train = clf.predict_proba(X_train)[:,1]"
   ]
  },
  {
   "cell_type": "code",
   "execution_count": 48,
   "metadata": {},
   "outputs": [
    {
     "data": {
      "text/plain": [
       "0.9703527882554751"
      ]
     },
     "execution_count": 48,
     "metadata": {},
     "output_type": "execute_result"
    }
   ],
   "source": [
    "roc_auc_score(y_train, y_pred_proba_train)"
   ]
  },
  {
   "cell_type": "markdown",
   "metadata": {},
   "source": [
    "Имеется небольшое переобучение"
   ]
  },
  {
   "cell_type": "markdown",
   "metadata": {},
   "source": [
    "## Дополнительные задания"
   ]
  },
  {
   "cell_type": "markdown",
   "metadata": {},
   "source": [
    "### Task 2.1\n",
    "Загрузите датасет Wine из встроенных датасетов sklearn.datasets с помощью функции load_wine в переменную data."
   ]
  },
  {
   "cell_type": "code",
   "execution_count": 49,
   "metadata": {},
   "outputs": [],
   "source": [
    "from sklearn.datasets import load_wine"
   ]
  },
  {
   "cell_type": "code",
   "execution_count": 50,
   "metadata": {},
   "outputs": [],
   "source": [
    "data = load_wine()"
   ]
  },
  {
   "cell_type": "markdown",
   "metadata": {},
   "source": [
    "### Task 2.2\n",
    "Полученный датасет не является датафреймом. Это структура данных, имеющая ключи аналогично словарю. Просмотрите тип данных этой структуры данных и создайте список data_keys, содержащий ее ключи."
   ]
  },
  {
   "cell_type": "code",
   "execution_count": 51,
   "metadata": {},
   "outputs": [
    {
     "data": {
      "text/plain": [
       "sklearn.utils.Bunch"
      ]
     },
     "execution_count": 51,
     "metadata": {},
     "output_type": "execute_result"
    }
   ],
   "source": [
    "type(data)"
   ]
  },
  {
   "cell_type": "code",
   "execution_count": 52,
   "metadata": {},
   "outputs": [
    {
     "data": {
      "text/plain": [
       "dict_keys(['data', 'target', 'frame', 'target_names', 'DESCR', 'feature_names'])"
      ]
     },
     "execution_count": 52,
     "metadata": {},
     "output_type": "execute_result"
    }
   ],
   "source": [
    "data_keys = data.keys()\n",
    "data_keys"
   ]
  },
  {
   "cell_type": "markdown",
   "metadata": {},
   "source": [
    "### Task 2.3\n",
    "Просмотрите данные, описание и названия признаков в датасете. Описание нужно вывести в виде привычного, аккуратно оформленного текста, без обозначений переноса строки, но с самими переносами и т.д."
   ]
  },
  {
   "cell_type": "code",
   "execution_count": 53,
   "metadata": {},
   "outputs": [
    {
     "data": {
      "text/plain": [
       "array([[1.423e+01, 1.710e+00, 2.430e+00, ..., 1.040e+00, 3.920e+00,\n",
       "        1.065e+03],\n",
       "       [1.320e+01, 1.780e+00, 2.140e+00, ..., 1.050e+00, 3.400e+00,\n",
       "        1.050e+03],\n",
       "       [1.316e+01, 2.360e+00, 2.670e+00, ..., 1.030e+00, 3.170e+00,\n",
       "        1.185e+03],\n",
       "       ...,\n",
       "       [1.327e+01, 4.280e+00, 2.260e+00, ..., 5.900e-01, 1.560e+00,\n",
       "        8.350e+02],\n",
       "       [1.317e+01, 2.590e+00, 2.370e+00, ..., 6.000e-01, 1.620e+00,\n",
       "        8.400e+02],\n",
       "       [1.413e+01, 4.100e+00, 2.740e+00, ..., 6.100e-01, 1.600e+00,\n",
       "        5.600e+02]])"
      ]
     },
     "execution_count": 53,
     "metadata": {},
     "output_type": "execute_result"
    }
   ],
   "source": [
    "data.data"
   ]
  },
  {
   "cell_type": "code",
   "execution_count": 54,
   "metadata": {},
   "outputs": [
    {
     "name": "stdout",
     "output_type": "stream",
     "text": [
      ".. _wine_dataset:\n",
      "\n",
      "Wine recognition dataset\n",
      "------------------------\n",
      "\n",
      "**Data Set Characteristics:**\n",
      "\n",
      "    :Number of Instances: 178 (50 in each of three classes)\n",
      "    :Number of Attributes: 13 numeric, predictive attributes and the class\n",
      "    :Attribute Information:\n",
      " \t\t- Alcohol\n",
      " \t\t- Malic acid\n",
      " \t\t- Ash\n",
      "\t\t- Alcalinity of ash  \n",
      " \t\t- Magnesium\n",
      "\t\t- Total phenols\n",
      " \t\t- Flavanoids\n",
      " \t\t- Nonflavanoid phenols\n",
      " \t\t- Proanthocyanins\n",
      "\t\t- Color intensity\n",
      " \t\t- Hue\n",
      " \t\t- OD280/OD315 of diluted wines\n",
      " \t\t- Proline\n",
      "\n",
      "    - class:\n",
      "            - class_0\n",
      "            - class_1\n",
      "            - class_2\n",
      "\t\t\n",
      "    :Summary Statistics:\n",
      "    \n",
      "    ============================= ==== ===== ======= =====\n",
      "                                   Min   Max   Mean     SD\n",
      "    ============================= ==== ===== ======= =====\n",
      "    Alcohol:                      11.0  14.8    13.0   0.8\n",
      "    Malic Acid:                   0.74  5.80    2.34  1.12\n",
      "    Ash:                          1.36  3.23    2.36  0.27\n",
      "    Alcalinity of Ash:            10.6  30.0    19.5   3.3\n",
      "    Magnesium:                    70.0 162.0    99.7  14.3\n",
      "    Total Phenols:                0.98  3.88    2.29  0.63\n",
      "    Flavanoids:                   0.34  5.08    2.03  1.00\n",
      "    Nonflavanoid Phenols:         0.13  0.66    0.36  0.12\n",
      "    Proanthocyanins:              0.41  3.58    1.59  0.57\n",
      "    Colour Intensity:              1.3  13.0     5.1   2.3\n",
      "    Hue:                          0.48  1.71    0.96  0.23\n",
      "    OD280/OD315 of diluted wines: 1.27  4.00    2.61  0.71\n",
      "    Proline:                       278  1680     746   315\n",
      "    ============================= ==== ===== ======= =====\n",
      "\n",
      "    :Missing Attribute Values: None\n",
      "    :Class Distribution: class_0 (59), class_1 (71), class_2 (48)\n",
      "    :Creator: R.A. Fisher\n",
      "    :Donor: Michael Marshall (MARSHALL%PLU@io.arc.nasa.gov)\n",
      "    :Date: July, 1988\n",
      "\n",
      "This is a copy of UCI ML Wine recognition datasets.\n",
      "https://archive.ics.uci.edu/ml/machine-learning-databases/wine/wine.data\n",
      "\n",
      "The data is the results of a chemical analysis of wines grown in the same\n",
      "region in Italy by three different cultivators. There are thirteen different\n",
      "measurements taken for different constituents found in the three types of\n",
      "wine.\n",
      "\n",
      "Original Owners: \n",
      "\n",
      "Forina, M. et al, PARVUS - \n",
      "An Extendible Package for Data Exploration, Classification and Correlation. \n",
      "Institute of Pharmaceutical and Food Analysis and Technologies,\n",
      "Via Brigata Salerno, 16147 Genoa, Italy.\n",
      "\n",
      "Citation:\n",
      "\n",
      "Lichman, M. (2013). UCI Machine Learning Repository\n",
      "[https://archive.ics.uci.edu/ml]. Irvine, CA: University of California,\n",
      "School of Information and Computer Science. \n",
      "\n",
      ".. topic:: References\n",
      "\n",
      "  (1) S. Aeberhard, D. Coomans and O. de Vel, \n",
      "  Comparison of Classifiers in High Dimensional Settings, \n",
      "  Tech. Rep. no. 92-02, (1992), Dept. of Computer Science and Dept. of  \n",
      "  Mathematics and Statistics, James Cook University of North Queensland. \n",
      "  (Also submitted to Technometrics). \n",
      "\n",
      "  The data was used with many others for comparing various \n",
      "  classifiers. The classes are separable, though only RDA \n",
      "  has achieved 100% correct classification. \n",
      "  (RDA : 100%, QDA 99.4%, LDA 98.9%, 1NN 96.1% (z-transformed data)) \n",
      "  (All results using the leave-one-out technique) \n",
      "\n",
      "  (2) S. Aeberhard, D. Coomans and O. de Vel, \n",
      "  \"THE CLASSIFICATION PERFORMANCE OF RDA\" \n",
      "  Tech. Rep. no. 92-01, (1992), Dept. of Computer Science and Dept. of \n",
      "  Mathematics and Statistics, James Cook University of North Queensland. \n",
      "  (Also submitted to Journal of Chemometrics).\n",
      "\n"
     ]
    }
   ],
   "source": [
    "for line in data.DESCR.split('\\n'):\n",
    "    print(line)"
   ]
  },
  {
   "cell_type": "code",
   "execution_count": 55,
   "metadata": {},
   "outputs": [
    {
     "data": {
      "text/plain": [
       "['alcohol',\n",
       " 'malic_acid',\n",
       " 'ash',\n",
       " 'alcalinity_of_ash',\n",
       " 'magnesium',\n",
       " 'total_phenols',\n",
       " 'flavanoids',\n",
       " 'nonflavanoid_phenols',\n",
       " 'proanthocyanins',\n",
       " 'color_intensity',\n",
       " 'hue',\n",
       " 'od280/od315_of_diluted_wines',\n",
       " 'proline']"
      ]
     },
     "execution_count": 55,
     "metadata": {},
     "output_type": "execute_result"
    }
   ],
   "source": [
    "data.feature_names"
   ]
  },
  {
   "cell_type": "markdown",
   "metadata": {},
   "source": [
    "### Task 2.4\n",
    "Сколько классов содержит целевая переменная датасета? Выведите названия классов."
   ]
  },
  {
   "cell_type": "code",
   "execution_count": 56,
   "metadata": {},
   "outputs": [
    {
     "data": {
      "text/plain": [
       "3"
      ]
     },
     "execution_count": 56,
     "metadata": {},
     "output_type": "execute_result"
    }
   ],
   "source": [
    "data.target_names.size"
   ]
  },
  {
   "cell_type": "code",
   "execution_count": 57,
   "metadata": {},
   "outputs": [
    {
     "name": "stdout",
     "output_type": "stream",
     "text": [
      "class_0\n",
      "class_1\n",
      "class_2\n"
     ]
    }
   ],
   "source": [
    "for word in data.target_names:\n",
    "    print(word)"
   ]
  },
  {
   "cell_type": "markdown",
   "metadata": {},
   "source": [
    "### Task 2.5\n",
    "На основе данных датасета (они содержатся в двумерном массиве Numpy) и названий признаков создайте датафрейм под названием X."
   ]
  },
  {
   "cell_type": "code",
   "execution_count": 58,
   "metadata": {},
   "outputs": [
    {
     "data": {
      "text/html": [
       "<div>\n",
       "<style scoped>\n",
       "    .dataframe tbody tr th:only-of-type {\n",
       "        vertical-align: middle;\n",
       "    }\n",
       "\n",
       "    .dataframe tbody tr th {\n",
       "        vertical-align: top;\n",
       "    }\n",
       "\n",
       "    .dataframe thead th {\n",
       "        text-align: right;\n",
       "    }\n",
       "</style>\n",
       "<table border=\"1\" class=\"dataframe\">\n",
       "  <thead>\n",
       "    <tr style=\"text-align: right;\">\n",
       "      <th></th>\n",
       "      <th>alcohol</th>\n",
       "      <th>malic_acid</th>\n",
       "      <th>ash</th>\n",
       "      <th>alcalinity_of_ash</th>\n",
       "      <th>magnesium</th>\n",
       "      <th>total_phenols</th>\n",
       "      <th>flavanoids</th>\n",
       "      <th>nonflavanoid_phenols</th>\n",
       "      <th>proanthocyanins</th>\n",
       "      <th>color_intensity</th>\n",
       "      <th>hue</th>\n",
       "      <th>od280/od315_of_diluted_wines</th>\n",
       "      <th>proline</th>\n",
       "    </tr>\n",
       "  </thead>\n",
       "  <tbody>\n",
       "    <tr>\n",
       "      <th>0</th>\n",
       "      <td>14.23</td>\n",
       "      <td>1.71</td>\n",
       "      <td>2.43</td>\n",
       "      <td>15.6</td>\n",
       "      <td>127.0</td>\n",
       "      <td>2.80</td>\n",
       "      <td>3.06</td>\n",
       "      <td>0.28</td>\n",
       "      <td>2.29</td>\n",
       "      <td>5.64</td>\n",
       "      <td>1.04</td>\n",
       "      <td>3.92</td>\n",
       "      <td>1065.0</td>\n",
       "    </tr>\n",
       "    <tr>\n",
       "      <th>1</th>\n",
       "      <td>13.20</td>\n",
       "      <td>1.78</td>\n",
       "      <td>2.14</td>\n",
       "      <td>11.2</td>\n",
       "      <td>100.0</td>\n",
       "      <td>2.65</td>\n",
       "      <td>2.76</td>\n",
       "      <td>0.26</td>\n",
       "      <td>1.28</td>\n",
       "      <td>4.38</td>\n",
       "      <td>1.05</td>\n",
       "      <td>3.40</td>\n",
       "      <td>1050.0</td>\n",
       "    </tr>\n",
       "    <tr>\n",
       "      <th>2</th>\n",
       "      <td>13.16</td>\n",
       "      <td>2.36</td>\n",
       "      <td>2.67</td>\n",
       "      <td>18.6</td>\n",
       "      <td>101.0</td>\n",
       "      <td>2.80</td>\n",
       "      <td>3.24</td>\n",
       "      <td>0.30</td>\n",
       "      <td>2.81</td>\n",
       "      <td>5.68</td>\n",
       "      <td>1.03</td>\n",
       "      <td>3.17</td>\n",
       "      <td>1185.0</td>\n",
       "    </tr>\n",
       "    <tr>\n",
       "      <th>3</th>\n",
       "      <td>14.37</td>\n",
       "      <td>1.95</td>\n",
       "      <td>2.50</td>\n",
       "      <td>16.8</td>\n",
       "      <td>113.0</td>\n",
       "      <td>3.85</td>\n",
       "      <td>3.49</td>\n",
       "      <td>0.24</td>\n",
       "      <td>2.18</td>\n",
       "      <td>7.80</td>\n",
       "      <td>0.86</td>\n",
       "      <td>3.45</td>\n",
       "      <td>1480.0</td>\n",
       "    </tr>\n",
       "    <tr>\n",
       "      <th>4</th>\n",
       "      <td>13.24</td>\n",
       "      <td>2.59</td>\n",
       "      <td>2.87</td>\n",
       "      <td>21.0</td>\n",
       "      <td>118.0</td>\n",
       "      <td>2.80</td>\n",
       "      <td>2.69</td>\n",
       "      <td>0.39</td>\n",
       "      <td>1.82</td>\n",
       "      <td>4.32</td>\n",
       "      <td>1.04</td>\n",
       "      <td>2.93</td>\n",
       "      <td>735.0</td>\n",
       "    </tr>\n",
       "    <tr>\n",
       "      <th>...</th>\n",
       "      <td>...</td>\n",
       "      <td>...</td>\n",
       "      <td>...</td>\n",
       "      <td>...</td>\n",
       "      <td>...</td>\n",
       "      <td>...</td>\n",
       "      <td>...</td>\n",
       "      <td>...</td>\n",
       "      <td>...</td>\n",
       "      <td>...</td>\n",
       "      <td>...</td>\n",
       "      <td>...</td>\n",
       "      <td>...</td>\n",
       "    </tr>\n",
       "    <tr>\n",
       "      <th>173</th>\n",
       "      <td>13.71</td>\n",
       "      <td>5.65</td>\n",
       "      <td>2.45</td>\n",
       "      <td>20.5</td>\n",
       "      <td>95.0</td>\n",
       "      <td>1.68</td>\n",
       "      <td>0.61</td>\n",
       "      <td>0.52</td>\n",
       "      <td>1.06</td>\n",
       "      <td>7.70</td>\n",
       "      <td>0.64</td>\n",
       "      <td>1.74</td>\n",
       "      <td>740.0</td>\n",
       "    </tr>\n",
       "    <tr>\n",
       "      <th>174</th>\n",
       "      <td>13.40</td>\n",
       "      <td>3.91</td>\n",
       "      <td>2.48</td>\n",
       "      <td>23.0</td>\n",
       "      <td>102.0</td>\n",
       "      <td>1.80</td>\n",
       "      <td>0.75</td>\n",
       "      <td>0.43</td>\n",
       "      <td>1.41</td>\n",
       "      <td>7.30</td>\n",
       "      <td>0.70</td>\n",
       "      <td>1.56</td>\n",
       "      <td>750.0</td>\n",
       "    </tr>\n",
       "    <tr>\n",
       "      <th>175</th>\n",
       "      <td>13.27</td>\n",
       "      <td>4.28</td>\n",
       "      <td>2.26</td>\n",
       "      <td>20.0</td>\n",
       "      <td>120.0</td>\n",
       "      <td>1.59</td>\n",
       "      <td>0.69</td>\n",
       "      <td>0.43</td>\n",
       "      <td>1.35</td>\n",
       "      <td>10.20</td>\n",
       "      <td>0.59</td>\n",
       "      <td>1.56</td>\n",
       "      <td>835.0</td>\n",
       "    </tr>\n",
       "    <tr>\n",
       "      <th>176</th>\n",
       "      <td>13.17</td>\n",
       "      <td>2.59</td>\n",
       "      <td>2.37</td>\n",
       "      <td>20.0</td>\n",
       "      <td>120.0</td>\n",
       "      <td>1.65</td>\n",
       "      <td>0.68</td>\n",
       "      <td>0.53</td>\n",
       "      <td>1.46</td>\n",
       "      <td>9.30</td>\n",
       "      <td>0.60</td>\n",
       "      <td>1.62</td>\n",
       "      <td>840.0</td>\n",
       "    </tr>\n",
       "    <tr>\n",
       "      <th>177</th>\n",
       "      <td>14.13</td>\n",
       "      <td>4.10</td>\n",
       "      <td>2.74</td>\n",
       "      <td>24.5</td>\n",
       "      <td>96.0</td>\n",
       "      <td>2.05</td>\n",
       "      <td>0.76</td>\n",
       "      <td>0.56</td>\n",
       "      <td>1.35</td>\n",
       "      <td>9.20</td>\n",
       "      <td>0.61</td>\n",
       "      <td>1.60</td>\n",
       "      <td>560.0</td>\n",
       "    </tr>\n",
       "  </tbody>\n",
       "</table>\n",
       "<p>178 rows × 13 columns</p>\n",
       "</div>"
      ],
      "text/plain": [
       "     alcohol  malic_acid   ash  alcalinity_of_ash  magnesium  total_phenols  \\\n",
       "0      14.23        1.71  2.43               15.6      127.0           2.80   \n",
       "1      13.20        1.78  2.14               11.2      100.0           2.65   \n",
       "2      13.16        2.36  2.67               18.6      101.0           2.80   \n",
       "3      14.37        1.95  2.50               16.8      113.0           3.85   \n",
       "4      13.24        2.59  2.87               21.0      118.0           2.80   \n",
       "..       ...         ...   ...                ...        ...            ...   \n",
       "173    13.71        5.65  2.45               20.5       95.0           1.68   \n",
       "174    13.40        3.91  2.48               23.0      102.0           1.80   \n",
       "175    13.27        4.28  2.26               20.0      120.0           1.59   \n",
       "176    13.17        2.59  2.37               20.0      120.0           1.65   \n",
       "177    14.13        4.10  2.74               24.5       96.0           2.05   \n",
       "\n",
       "     flavanoids  nonflavanoid_phenols  proanthocyanins  color_intensity   hue  \\\n",
       "0          3.06                  0.28             2.29             5.64  1.04   \n",
       "1          2.76                  0.26             1.28             4.38  1.05   \n",
       "2          3.24                  0.30             2.81             5.68  1.03   \n",
       "3          3.49                  0.24             2.18             7.80  0.86   \n",
       "4          2.69                  0.39             1.82             4.32  1.04   \n",
       "..          ...                   ...              ...              ...   ...   \n",
       "173        0.61                  0.52             1.06             7.70  0.64   \n",
       "174        0.75                  0.43             1.41             7.30  0.70   \n",
       "175        0.69                  0.43             1.35            10.20  0.59   \n",
       "176        0.68                  0.53             1.46             9.30  0.60   \n",
       "177        0.76                  0.56             1.35             9.20  0.61   \n",
       "\n",
       "     od280/od315_of_diluted_wines  proline  \n",
       "0                            3.92   1065.0  \n",
       "1                            3.40   1050.0  \n",
       "2                            3.17   1185.0  \n",
       "3                            3.45   1480.0  \n",
       "4                            2.93    735.0  \n",
       "..                            ...      ...  \n",
       "173                          1.74    740.0  \n",
       "174                          1.56    750.0  \n",
       "175                          1.56    835.0  \n",
       "176                          1.62    840.0  \n",
       "177                          1.60    560.0  \n",
       "\n",
       "[178 rows x 13 columns]"
      ]
     },
     "execution_count": 58,
     "metadata": {},
     "output_type": "execute_result"
    }
   ],
   "source": [
    "X = pd.DataFrame(data.data, columns=data.feature_names)\n",
    "X"
   ]
  },
  {
   "cell_type": "markdown",
   "metadata": {},
   "source": [
    "### Task 2.6\n",
    "Выясните размер датафрейма X и установите, имеются ли в нем пропущенные значения."
   ]
  },
  {
   "cell_type": "code",
   "execution_count": 59,
   "metadata": {},
   "outputs": [
    {
     "data": {
      "text/plain": [
       "(178, 13)"
      ]
     },
     "execution_count": 59,
     "metadata": {},
     "output_type": "execute_result"
    }
   ],
   "source": [
    "X.shape"
   ]
  },
  {
   "cell_type": "code",
   "execution_count": 60,
   "metadata": {},
   "outputs": [
    {
     "name": "stdout",
     "output_type": "stream",
     "text": [
      "<class 'pandas.core.frame.DataFrame'>\n",
      "RangeIndex: 178 entries, 0 to 177\n",
      "Data columns (total 13 columns):\n",
      " #   Column                        Non-Null Count  Dtype  \n",
      "---  ------                        --------------  -----  \n",
      " 0   alcohol                       178 non-null    float64\n",
      " 1   malic_acid                    178 non-null    float64\n",
      " 2   ash                           178 non-null    float64\n",
      " 3   alcalinity_of_ash             178 non-null    float64\n",
      " 4   magnesium                     178 non-null    float64\n",
      " 5   total_phenols                 178 non-null    float64\n",
      " 6   flavanoids                    178 non-null    float64\n",
      " 7   nonflavanoid_phenols          178 non-null    float64\n",
      " 8   proanthocyanins               178 non-null    float64\n",
      " 9   color_intensity               178 non-null    float64\n",
      " 10  hue                           178 non-null    float64\n",
      " 11  od280/od315_of_diluted_wines  178 non-null    float64\n",
      " 12  proline                       178 non-null    float64\n",
      "dtypes: float64(13)\n",
      "memory usage: 18.2 KB\n"
     ]
    }
   ],
   "source": [
    "X.info()"
   ]
  },
  {
   "cell_type": "markdown",
   "metadata": {},
   "source": [
    "### Task 2.7\n",
    "Добавьте в датафрейм поле с классами вин в виде чисел, имеющих тип данных numpy.int64. Название поля - 'target'."
   ]
  },
  {
   "cell_type": "code",
   "execution_count": 61,
   "metadata": {},
   "outputs": [
    {
     "data": {
      "text/plain": [
       "0      0\n",
       "1      0\n",
       "2      0\n",
       "3      0\n",
       "4      0\n",
       "      ..\n",
       "173    2\n",
       "174    2\n",
       "175    2\n",
       "176    2\n",
       "177    2\n",
       "Name: target, Length: 178, dtype: int64"
      ]
     },
     "execution_count": 61,
     "metadata": {},
     "output_type": "execute_result"
    }
   ],
   "source": [
    "X['target'] = data.target.astype('int64')\n",
    "X['target']"
   ]
  },
  {
   "cell_type": "markdown",
   "metadata": {},
   "source": [
    "### Task 2.8\n",
    "Постройте матрицу корреляций для всех полей X. Дайте полученному датафрейму название X_corr."
   ]
  },
  {
   "cell_type": "code",
   "execution_count": 62,
   "metadata": {},
   "outputs": [
    {
     "data": {
      "text/html": [
       "<style  type=\"text/css\" >\n",
       "#T_8ccc3e8a_7221_11eb_850a_2c56dc17e07frow0_col0,#T_8ccc3e8a_7221_11eb_850a_2c56dc17e07frow1_col1,#T_8ccc3e8a_7221_11eb_850a_2c56dc17e07frow2_col2,#T_8ccc3e8a_7221_11eb_850a_2c56dc17e07frow3_col3,#T_8ccc3e8a_7221_11eb_850a_2c56dc17e07frow4_col4,#T_8ccc3e8a_7221_11eb_850a_2c56dc17e07frow5_col5,#T_8ccc3e8a_7221_11eb_850a_2c56dc17e07frow6_col6,#T_8ccc3e8a_7221_11eb_850a_2c56dc17e07frow7_col7,#T_8ccc3e8a_7221_11eb_850a_2c56dc17e07frow8_col8,#T_8ccc3e8a_7221_11eb_850a_2c56dc17e07frow9_col9,#T_8ccc3e8a_7221_11eb_850a_2c56dc17e07frow10_col10,#T_8ccc3e8a_7221_11eb_850a_2c56dc17e07frow11_col11,#T_8ccc3e8a_7221_11eb_850a_2c56dc17e07frow12_col12,#T_8ccc3e8a_7221_11eb_850a_2c56dc17e07frow13_col13{\n",
       "            background-color:  #b40426;\n",
       "            color:  #f1f1f1;\n",
       "        }#T_8ccc3e8a_7221_11eb_850a_2c56dc17e07frow0_col1,#T_8ccc3e8a_7221_11eb_850a_2c56dc17e07frow0_col4{\n",
       "            background-color:  #c6d6f1;\n",
       "            color:  #000000;\n",
       "        }#T_8ccc3e8a_7221_11eb_850a_2c56dc17e07frow0_col2,#T_8ccc3e8a_7221_11eb_850a_2c56dc17e07frow3_col6{\n",
       "            background-color:  #93b5fe;\n",
       "            color:  #000000;\n",
       "        }#T_8ccc3e8a_7221_11eb_850a_2c56dc17e07frow0_col3{\n",
       "            background-color:  #5673e0;\n",
       "            color:  #000000;\n",
       "        }#T_8ccc3e8a_7221_11eb_850a_2c56dc17e07frow0_col5,#T_8ccc3e8a_7221_11eb_850a_2c56dc17e07frow0_col6{\n",
       "            background-color:  #f0cdbb;\n",
       "            color:  #000000;\n",
       "        }#T_8ccc3e8a_7221_11eb_850a_2c56dc17e07frow0_col7,#T_8ccc3e8a_7221_11eb_850a_2c56dc17e07frow4_col3,#T_8ccc3e8a_7221_11eb_850a_2c56dc17e07frow10_col4{\n",
       "            background-color:  #8caffe;\n",
       "            color:  #000000;\n",
       "        }#T_8ccc3e8a_7221_11eb_850a_2c56dc17e07frow0_col8,#T_8ccc3e8a_7221_11eb_850a_2c56dc17e07frow6_col0{\n",
       "            background-color:  #c7d7f0;\n",
       "            color:  #000000;\n",
       "        }#T_8ccc3e8a_7221_11eb_850a_2c56dc17e07frow0_col9{\n",
       "            background-color:  #f7ac8e;\n",
       "            color:  #000000;\n",
       "        }#T_8ccc3e8a_7221_11eb_850a_2c56dc17e07frow0_col10,#T_8ccc3e8a_7221_11eb_850a_2c56dc17e07frow2_col8,#T_8ccc3e8a_7221_11eb_850a_2c56dc17e07frow4_col2{\n",
       "            background-color:  #abc8fd;\n",
       "            color:  #000000;\n",
       "        }#T_8ccc3e8a_7221_11eb_850a_2c56dc17e07frow0_col11,#T_8ccc3e8a_7221_11eb_850a_2c56dc17e07frow3_col2{\n",
       "            background-color:  #d8dce2;\n",
       "            color:  #000000;\n",
       "        }#T_8ccc3e8a_7221_11eb_850a_2c56dc17e07frow0_col12{\n",
       "            background-color:  #f08b6e;\n",
       "            color:  #000000;\n",
       "        }#T_8ccc3e8a_7221_11eb_850a_2c56dc17e07frow0_col13,#T_8ccc3e8a_7221_11eb_850a_2c56dc17e07frow12_col2{\n",
       "            background-color:  #97b8ff;\n",
       "            color:  #000000;\n",
       "        }#T_8ccc3e8a_7221_11eb_850a_2c56dc17e07frow1_col0,#T_8ccc3e8a_7221_11eb_850a_2c56dc17e07frow9_col3{\n",
       "            background-color:  #a5c3fe;\n",
       "            color:  #000000;\n",
       "        }#T_8ccc3e8a_7221_11eb_850a_2c56dc17e07frow1_col2,#T_8ccc3e8a_7221_11eb_850a_2c56dc17e07frow7_col10{\n",
       "            background-color:  #82a6fb;\n",
       "            color:  #000000;\n",
       "        }#T_8ccc3e8a_7221_11eb_850a_2c56dc17e07frow1_col3,#T_8ccc3e8a_7221_11eb_850a_2c56dc17e07frow1_col9{\n",
       "            background-color:  #dedcdb;\n",
       "            color:  #000000;\n",
       "        }#T_8ccc3e8a_7221_11eb_850a_2c56dc17e07frow1_col4{\n",
       "            background-color:  #6e90f2;\n",
       "            color:  #000000;\n",
       "        }#T_8ccc3e8a_7221_11eb_850a_2c56dc17e07frow1_col5{\n",
       "            background-color:  #84a7fc;\n",
       "            color:  #000000;\n",
       "        }#T_8ccc3e8a_7221_11eb_850a_2c56dc17e07frow1_col6,#T_8ccc3e8a_7221_11eb_850a_2c56dc17e07frow1_col11,#T_8ccc3e8a_7221_11eb_850a_2c56dc17e07frow12_col1{\n",
       "            background-color:  #88abfd;\n",
       "            color:  #000000;\n",
       "        }#T_8ccc3e8a_7221_11eb_850a_2c56dc17e07frow1_col7{\n",
       "            background-color:  #e7d7ce;\n",
       "            color:  #000000;\n",
       "        }#T_8ccc3e8a_7221_11eb_850a_2c56dc17e07frow1_col8{\n",
       "            background-color:  #7699f6;\n",
       "            color:  #000000;\n",
       "        }#T_8ccc3e8a_7221_11eb_850a_2c56dc17e07frow1_col10,#T_8ccc3e8a_7221_11eb_850a_2c56dc17e07frow11_col13{\n",
       "            background-color:  #445acc;\n",
       "            color:  #f1f1f1;\n",
       "        }#T_8ccc3e8a_7221_11eb_850a_2c56dc17e07frow1_col12{\n",
       "            background-color:  #94b6ff;\n",
       "            color:  #000000;\n",
       "        }#T_8ccc3e8a_7221_11eb_850a_2c56dc17e07frow1_col13{\n",
       "            background-color:  #f7ad90;\n",
       "            color:  #000000;\n",
       "        }#T_8ccc3e8a_7221_11eb_850a_2c56dc17e07frow2_col0{\n",
       "            background-color:  #c3d5f4;\n",
       "            color:  #000000;\n",
       "        }#T_8ccc3e8a_7221_11eb_850a_2c56dc17e07frow2_col1,#T_8ccc3e8a_7221_11eb_850a_2c56dc17e07frow5_col0{\n",
       "            background-color:  #d3dbe7;\n",
       "            color:  #000000;\n",
       "        }#T_8ccc3e8a_7221_11eb_850a_2c56dc17e07frow2_col3,#T_8ccc3e8a_7221_11eb_850a_2c56dc17e07frow12_col11{\n",
       "            background-color:  #f3c7b1;\n",
       "            color:  #000000;\n",
       "        }#T_8ccc3e8a_7221_11eb_850a_2c56dc17e07frow2_col4,#T_8ccc3e8a_7221_11eb_850a_2c56dc17e07frow2_col13{\n",
       "            background-color:  #cad8ef;\n",
       "            color:  #000000;\n",
       "        }#T_8ccc3e8a_7221_11eb_850a_2c56dc17e07frow2_col5{\n",
       "            background-color:  #dbdcde;\n",
       "            color:  #000000;\n",
       "        }#T_8ccc3e8a_7221_11eb_850a_2c56dc17e07frow2_col6{\n",
       "            background-color:  #e2dad5;\n",
       "            color:  #000000;\n",
       "        }#T_8ccc3e8a_7221_11eb_850a_2c56dc17e07frow2_col7{\n",
       "            background-color:  #d5dbe5;\n",
       "            color:  #000000;\n",
       "        }#T_8ccc3e8a_7221_11eb_850a_2c56dc17e07frow2_col9{\n",
       "            background-color:  #e0dbd8;\n",
       "            color:  #000000;\n",
       "        }#T_8ccc3e8a_7221_11eb_850a_2c56dc17e07frow2_col10{\n",
       "            background-color:  #aac7fd;\n",
       "            color:  #000000;\n",
       "        }#T_8ccc3e8a_7221_11eb_850a_2c56dc17e07frow2_col11{\n",
       "            background-color:  #cdd9ec;\n",
       "            color:  #000000;\n",
       "        }#T_8ccc3e8a_7221_11eb_850a_2c56dc17e07frow2_col12{\n",
       "            background-color:  #e3d9d3;\n",
       "            color:  #000000;\n",
       "        }#T_8ccc3e8a_7221_11eb_850a_2c56dc17e07frow3_col0{\n",
       "            background-color:  #3e51c5;\n",
       "            color:  #f1f1f1;\n",
       "        }#T_8ccc3e8a_7221_11eb_850a_2c56dc17e07frow3_col1,#T_8ccc3e8a_7221_11eb_850a_2c56dc17e07frow4_col5{\n",
       "            background-color:  #e8d6cc;\n",
       "            color:  #000000;\n",
       "        }#T_8ccc3e8a_7221_11eb_850a_2c56dc17e07frow3_col4{\n",
       "            background-color:  #6687ed;\n",
       "            color:  #000000;\n",
       "        }#T_8ccc3e8a_7221_11eb_850a_2c56dc17e07frow3_col5{\n",
       "            background-color:  #86a9fc;\n",
       "            color:  #000000;\n",
       "        }#T_8ccc3e8a_7221_11eb_850a_2c56dc17e07frow3_col7{\n",
       "            background-color:  #efcebd;\n",
       "            color:  #000000;\n",
       "        }#T_8ccc3e8a_7221_11eb_850a_2c56dc17e07frow3_col8,#T_8ccc3e8a_7221_11eb_850a_2c56dc17e07frow9_col11{\n",
       "            background-color:  #7b9ff9;\n",
       "            color:  #000000;\n",
       "        }#T_8ccc3e8a_7221_11eb_850a_2c56dc17e07frow3_col9{\n",
       "            background-color:  #b1cbfc;\n",
       "            color:  #000000;\n",
       "        }#T_8ccc3e8a_7221_11eb_850a_2c56dc17e07frow3_col10{\n",
       "            background-color:  #80a3fa;\n",
       "            color:  #000000;\n",
       "        }#T_8ccc3e8a_7221_11eb_850a_2c56dc17e07frow3_col11{\n",
       "            background-color:  #9abbff;\n",
       "            color:  #000000;\n",
       "        }#T_8ccc3e8a_7221_11eb_850a_2c56dc17e07frow3_col12{\n",
       "            background-color:  #5f7fe8;\n",
       "            color:  #000000;\n",
       "        }#T_8ccc3e8a_7221_11eb_850a_2c56dc17e07frow3_col13,#T_8ccc3e8a_7221_11eb_850a_2c56dc17e07frow5_col8{\n",
       "            background-color:  #f59d7e;\n",
       "            color:  #000000;\n",
       "        }#T_8ccc3e8a_7221_11eb_850a_2c56dc17e07frow4_col0{\n",
       "            background-color:  #cfdaea;\n",
       "            color:  #000000;\n",
       "        }#T_8ccc3e8a_7221_11eb_850a_2c56dc17e07frow4_col1,#T_8ccc3e8a_7221_11eb_850a_2c56dc17e07frow8_col9{\n",
       "            background-color:  #a7c5fe;\n",
       "            color:  #000000;\n",
       "        }#T_8ccc3e8a_7221_11eb_850a_2c56dc17e07frow4_col6,#T_8ccc3e8a_7221_11eb_850a_2c56dc17e07frow8_col10{\n",
       "            background-color:  #ecd3c5;\n",
       "            color:  #000000;\n",
       "        }#T_8ccc3e8a_7221_11eb_850a_2c56dc17e07frow4_col7{\n",
       "            background-color:  #7597f6;\n",
       "            color:  #000000;\n",
       "        }#T_8ccc3e8a_7221_11eb_850a_2c56dc17e07frow4_col8{\n",
       "            background-color:  #dadce0;\n",
       "            color:  #000000;\n",
       "        }#T_8ccc3e8a_7221_11eb_850a_2c56dc17e07frow4_col9{\n",
       "            background-color:  #d6dce4;\n",
       "            color:  #000000;\n",
       "        }#T_8ccc3e8a_7221_11eb_850a_2c56dc17e07frow4_col10{\n",
       "            background-color:  #c5d6f2;\n",
       "            color:  #000000;\n",
       "        }#T_8ccc3e8a_7221_11eb_850a_2c56dc17e07frow4_col11{\n",
       "            background-color:  #d7dce3;\n",
       "            color:  #000000;\n",
       "        }#T_8ccc3e8a_7221_11eb_850a_2c56dc17e07frow4_col12{\n",
       "            background-color:  #f5c4ac;\n",
       "            color:  #000000;\n",
       "        }#T_8ccc3e8a_7221_11eb_850a_2c56dc17e07frow4_col13{\n",
       "            background-color:  #aec9fc;\n",
       "            color:  #000000;\n",
       "        }#T_8ccc3e8a_7221_11eb_850a_2c56dc17e07frow5_col1,#T_8ccc3e8a_7221_11eb_850a_2c56dc17e07frow12_col7{\n",
       "            background-color:  #688aef;\n",
       "            color:  #000000;\n",
       "        }#T_8ccc3e8a_7221_11eb_850a_2c56dc17e07frow5_col2,#T_8ccc3e8a_7221_11eb_850a_2c56dc17e07frow8_col13{\n",
       "            background-color:  #779af7;\n",
       "            color:  #000000;\n",
       "        }#T_8ccc3e8a_7221_11eb_850a_2c56dc17e07frow5_col3{\n",
       "            background-color:  #5470de;\n",
       "            color:  #000000;\n",
       "        }#T_8ccc3e8a_7221_11eb_850a_2c56dc17e07frow5_col4{\n",
       "            background-color:  #b7cff9;\n",
       "            color:  #000000;\n",
       "        }#T_8ccc3e8a_7221_11eb_850a_2c56dc17e07frow5_col6{\n",
       "            background-color:  #cd423b;\n",
       "            color:  #f1f1f1;\n",
       "        }#T_8ccc3e8a_7221_11eb_850a_2c56dc17e07frow5_col7{\n",
       "            background-color:  #4b64d5;\n",
       "            color:  #f1f1f1;\n",
       "        }#T_8ccc3e8a_7221_11eb_850a_2c56dc17e07frow5_col9{\n",
       "            background-color:  #a1c0ff;\n",
       "            color:  #000000;\n",
       "        }#T_8ccc3e8a_7221_11eb_850a_2c56dc17e07frow5_col10{\n",
       "            background-color:  #f6bda2;\n",
       "            color:  #000000;\n",
       "        }#T_8ccc3e8a_7221_11eb_850a_2c56dc17e07frow5_col11{\n",
       "            background-color:  #e7745b;\n",
       "            color:  #000000;\n",
       "        }#T_8ccc3e8a_7221_11eb_850a_2c56dc17e07frow5_col12{\n",
       "            background-color:  #f7af91;\n",
       "            color:  #000000;\n",
       "        }#T_8ccc3e8a_7221_11eb_850a_2c56dc17e07frow5_col13{\n",
       "            background-color:  #4f69d9;\n",
       "            color:  #000000;\n",
       "        }#T_8ccc3e8a_7221_11eb_850a_2c56dc17e07frow6_col1{\n",
       "            background-color:  #5875e1;\n",
       "            color:  #000000;\n",
       "        }#T_8ccc3e8a_7221_11eb_850a_2c56dc17e07frow6_col2,#T_8ccc3e8a_7221_11eb_850a_2c56dc17e07frow10_col7{\n",
       "            background-color:  #7396f5;\n",
       "            color:  #000000;\n",
       "        }#T_8ccc3e8a_7221_11eb_850a_2c56dc17e07frow6_col3,#T_8ccc3e8a_7221_11eb_850a_2c56dc17e07frow9_col10,#T_8ccc3e8a_7221_11eb_850a_2c56dc17e07frow11_col9{\n",
       "            background-color:  #4c66d6;\n",
       "            color:  #000000;\n",
       "        }#T_8ccc3e8a_7221_11eb_850a_2c56dc17e07frow6_col4,#T_8ccc3e8a_7221_11eb_850a_2c56dc17e07frow9_col4{\n",
       "            background-color:  #b3cdfb;\n",
       "            color:  #000000;\n",
       "        }#T_8ccc3e8a_7221_11eb_850a_2c56dc17e07frow6_col5{\n",
       "            background-color:  #d0473d;\n",
       "            color:  #f1f1f1;\n",
       "        }#T_8ccc3e8a_7221_11eb_850a_2c56dc17e07frow6_col7,#T_8ccc3e8a_7221_11eb_850a_2c56dc17e07frow6_col13,#T_8ccc3e8a_7221_11eb_850a_2c56dc17e07frow7_col4,#T_8ccc3e8a_7221_11eb_850a_2c56dc17e07frow10_col1,#T_8ccc3e8a_7221_11eb_850a_2c56dc17e07frow10_col2,#T_8ccc3e8a_7221_11eb_850a_2c56dc17e07frow10_col9,#T_8ccc3e8a_7221_11eb_850a_2c56dc17e07frow12_col3,#T_8ccc3e8a_7221_11eb_850a_2c56dc17e07frow13_col0,#T_8ccc3e8a_7221_11eb_850a_2c56dc17e07frow13_col5,#T_8ccc3e8a_7221_11eb_850a_2c56dc17e07frow13_col6,#T_8ccc3e8a_7221_11eb_850a_2c56dc17e07frow13_col8,#T_8ccc3e8a_7221_11eb_850a_2c56dc17e07frow13_col10,#T_8ccc3e8a_7221_11eb_850a_2c56dc17e07frow13_col11,#T_8ccc3e8a_7221_11eb_850a_2c56dc17e07frow13_col12{\n",
       "            background-color:  #3b4cc0;\n",
       "            color:  #f1f1f1;\n",
       "        }#T_8ccc3e8a_7221_11eb_850a_2c56dc17e07frow6_col8{\n",
       "            background-color:  #f29274;\n",
       "            color:  #000000;\n",
       "        }#T_8ccc3e8a_7221_11eb_850a_2c56dc17e07frow6_col9{\n",
       "            background-color:  #85a8fc;\n",
       "            color:  #000000;\n",
       "        }#T_8ccc3e8a_7221_11eb_850a_2c56dc17e07frow6_col10{\n",
       "            background-color:  #f7a688;\n",
       "            color:  #000000;\n",
       "        }#T_8ccc3e8a_7221_11eb_850a_2c56dc17e07frow6_col11{\n",
       "            background-color:  #dc5d4a;\n",
       "            color:  #000000;\n",
       "        }#T_8ccc3e8a_7221_11eb_850a_2c56dc17e07frow6_col12{\n",
       "            background-color:  #f7b093;\n",
       "            color:  #000000;\n",
       "        }#T_8ccc3e8a_7221_11eb_850a_2c56dc17e07frow7_col0{\n",
       "            background-color:  #6384eb;\n",
       "            color:  #000000;\n",
       "        }#T_8ccc3e8a_7221_11eb_850a_2c56dc17e07frow7_col1,#T_8ccc3e8a_7221_11eb_850a_2c56dc17e07frow12_col9{\n",
       "            background-color:  #e9d5cb;\n",
       "            color:  #000000;\n",
       "        }#T_8ccc3e8a_7221_11eb_850a_2c56dc17e07frow7_col2{\n",
       "            background-color:  #8badfd;\n",
       "            color:  #000000;\n",
       "        }#T_8ccc3e8a_7221_11eb_850a_2c56dc17e07frow7_col3{\n",
       "            background-color:  #ead4c8;\n",
       "            color:  #000000;\n",
       "        }#T_8ccc3e8a_7221_11eb_850a_2c56dc17e07frow7_col5,#T_8ccc3e8a_7221_11eb_850a_2c56dc17e07frow7_col11{\n",
       "            background-color:  #6c8ff1;\n",
       "            color:  #000000;\n",
       "        }#T_8ccc3e8a_7221_11eb_850a_2c56dc17e07frow7_col6{\n",
       "            background-color:  #6f92f3;\n",
       "            color:  #000000;\n",
       "        }#T_8ccc3e8a_7221_11eb_850a_2c56dc17e07frow7_col8{\n",
       "            background-color:  #5572df;\n",
       "            color:  #000000;\n",
       "        }#T_8ccc3e8a_7221_11eb_850a_2c56dc17e07frow7_col9{\n",
       "            background-color:  #cbd8ee;\n",
       "            color:  #000000;\n",
       "        }#T_8ccc3e8a_7221_11eb_850a_2c56dc17e07frow7_col12{\n",
       "            background-color:  #7a9df8;\n",
       "            color:  #000000;\n",
       "        }#T_8ccc3e8a_7221_11eb_850a_2c56dc17e07frow7_col13,#T_8ccc3e8a_7221_11eb_850a_2c56dc17e07frow12_col6{\n",
       "            background-color:  #f6a385;\n",
       "            color:  #000000;\n",
       "        }#T_8ccc3e8a_7221_11eb_850a_2c56dc17e07frow8_col0{\n",
       "            background-color:  #afcafc;\n",
       "            color:  #000000;\n",
       "        }#T_8ccc3e8a_7221_11eb_850a_2c56dc17e07frow8_col1{\n",
       "            background-color:  #81a4fb;\n",
       "            color:  #000000;\n",
       "        }#T_8ccc3e8a_7221_11eb_850a_2c56dc17e07frow8_col2{\n",
       "            background-color:  #536edd;\n",
       "            color:  #000000;\n",
       "        }#T_8ccc3e8a_7221_11eb_850a_2c56dc17e07frow8_col3{\n",
       "            background-color:  #7093f3;\n",
       "            color:  #000000;\n",
       "        }#T_8ccc3e8a_7221_11eb_850a_2c56dc17e07frow8_col4{\n",
       "            background-color:  #bed2f6;\n",
       "            color:  #000000;\n",
       "        }#T_8ccc3e8a_7221_11eb_850a_2c56dc17e07frow8_col5{\n",
       "            background-color:  #f18f71;\n",
       "            color:  #000000;\n",
       "        }#T_8ccc3e8a_7221_11eb_850a_2c56dc17e07frow8_col6{\n",
       "            background-color:  #ec7f63;\n",
       "            color:  #000000;\n",
       "        }#T_8ccc3e8a_7221_11eb_850a_2c56dc17e07frow8_col7{\n",
       "            background-color:  #5d7ce6;\n",
       "            color:  #000000;\n",
       "        }#T_8ccc3e8a_7221_11eb_850a_2c56dc17e07frow8_col11,#T_8ccc3e8a_7221_11eb_850a_2c56dc17e07frow11_col10,#T_8ccc3e8a_7221_11eb_850a_2c56dc17e07frow12_col0{\n",
       "            background-color:  #f5a081;\n",
       "            color:  #000000;\n",
       "        }#T_8ccc3e8a_7221_11eb_850a_2c56dc17e07frow8_col12{\n",
       "            background-color:  #f1cdba;\n",
       "            color:  #000000;\n",
       "        }#T_8ccc3e8a_7221_11eb_850a_2c56dc17e07frow9_col0{\n",
       "            background-color:  #f7ba9f;\n",
       "            color:  #000000;\n",
       "        }#T_8ccc3e8a_7221_11eb_850a_2c56dc17e07frow9_col1,#T_8ccc3e8a_7221_11eb_850a_2c56dc17e07frow12_col4,#T_8ccc3e8a_7221_11eb_850a_2c56dc17e07frow13_col9{\n",
       "            background-color:  #e1dad6;\n",
       "            color:  #000000;\n",
       "        }#T_8ccc3e8a_7221_11eb_850a_2c56dc17e07frow9_col2{\n",
       "            background-color:  #a2c1ff;\n",
       "            color:  #000000;\n",
       "        }#T_8ccc3e8a_7221_11eb_850a_2c56dc17e07frow9_col5{\n",
       "            background-color:  #bbd1f8;\n",
       "            color:  #000000;\n",
       "        }#T_8ccc3e8a_7221_11eb_850a_2c56dc17e07frow9_col6{\n",
       "            background-color:  #b5cdfa;\n",
       "            color:  #000000;\n",
       "        }#T_8ccc3e8a_7221_11eb_850a_2c56dc17e07frow9_col7{\n",
       "            background-color:  #ccd9ed;\n",
       "            color:  #000000;\n",
       "        }#T_8ccc3e8a_7221_11eb_850a_2c56dc17e07frow9_col8{\n",
       "            background-color:  #a3c2fe;\n",
       "            color:  #000000;\n",
       "        }#T_8ccc3e8a_7221_11eb_850a_2c56dc17e07frow9_col12,#T_8ccc3e8a_7221_11eb_850a_2c56dc17e07frow11_col12{\n",
       "            background-color:  #efcfbf;\n",
       "            color:  #000000;\n",
       "        }#T_8ccc3e8a_7221_11eb_850a_2c56dc17e07frow9_col13{\n",
       "            background-color:  #f2cab5;\n",
       "            color:  #000000;\n",
       "        }#T_8ccc3e8a_7221_11eb_850a_2c56dc17e07frow10_col0{\n",
       "            background-color:  #799cf8;\n",
       "            color:  #000000;\n",
       "        }#T_8ccc3e8a_7221_11eb_850a_2c56dc17e07frow10_col3,#T_8ccc3e8a_7221_11eb_850a_2c56dc17e07frow11_col3,#T_8ccc3e8a_7221_11eb_850a_2c56dc17e07frow12_col13{\n",
       "            background-color:  #5e7de7;\n",
       "            color:  #000000;\n",
       "        }#T_8ccc3e8a_7221_11eb_850a_2c56dc17e07frow10_col5{\n",
       "            background-color:  #f7b79b;\n",
       "            color:  #000000;\n",
       "        }#T_8ccc3e8a_7221_11eb_850a_2c56dc17e07frow10_col6{\n",
       "            background-color:  #f4987a;\n",
       "            color:  #000000;\n",
       "        }#T_8ccc3e8a_7221_11eb_850a_2c56dc17e07frow10_col8,#T_8ccc3e8a_7221_11eb_850a_2c56dc17e07frow12_col10{\n",
       "            background-color:  #e4d9d2;\n",
       "            color:  #000000;\n",
       "        }#T_8ccc3e8a_7221_11eb_850a_2c56dc17e07frow10_col11{\n",
       "            background-color:  #f39778;\n",
       "            color:  #000000;\n",
       "        }#T_8ccc3e8a_7221_11eb_850a_2c56dc17e07frow10_col12{\n",
       "            background-color:  #e5d8d1;\n",
       "            color:  #000000;\n",
       "        }#T_8ccc3e8a_7221_11eb_850a_2c56dc17e07frow10_col13,#T_8ccc3e8a_7221_11eb_850a_2c56dc17e07frow11_col1{\n",
       "            background-color:  #6180e9;\n",
       "            color:  #000000;\n",
       "        }#T_8ccc3e8a_7221_11eb_850a_2c56dc17e07frow11_col0{\n",
       "            background-color:  #9fbfff;\n",
       "            color:  #000000;\n",
       "        }#T_8ccc3e8a_7221_11eb_850a_2c56dc17e07frow11_col2{\n",
       "            background-color:  #506bda;\n",
       "            color:  #000000;\n",
       "        }#T_8ccc3e8a_7221_11eb_850a_2c56dc17e07frow11_col4{\n",
       "            background-color:  #8fb1fe;\n",
       "            color:  #000000;\n",
       "        }#T_8ccc3e8a_7221_11eb_850a_2c56dc17e07frow11_col5{\n",
       "            background-color:  #e9785d;\n",
       "            color:  #000000;\n",
       "        }#T_8ccc3e8a_7221_11eb_850a_2c56dc17e07frow11_col6{\n",
       "            background-color:  #da5a49;\n",
       "            color:  #000000;\n",
       "        }#T_8ccc3e8a_7221_11eb_850a_2c56dc17e07frow11_col7,#T_8ccc3e8a_7221_11eb_850a_2c56dc17e07frow13_col2{\n",
       "            background-color:  #4055c8;\n",
       "            color:  #f1f1f1;\n",
       "        }#T_8ccc3e8a_7221_11eb_850a_2c56dc17e07frow11_col8{\n",
       "            background-color:  #f7b497;\n",
       "            color:  #000000;\n",
       "        }#T_8ccc3e8a_7221_11eb_850a_2c56dc17e07frow12_col5{\n",
       "            background-color:  #f7a98b;\n",
       "            color:  #000000;\n",
       "        }#T_8ccc3e8a_7221_11eb_850a_2c56dc17e07frow12_col8{\n",
       "            background-color:  #ead5c9;\n",
       "            color:  #000000;\n",
       "        }#T_8ccc3e8a_7221_11eb_850a_2c56dc17e07frow13_col1{\n",
       "            background-color:  #f5c0a7;\n",
       "            color:  #000000;\n",
       "        }#T_8ccc3e8a_7221_11eb_850a_2c56dc17e07frow13_col3,#T_8ccc3e8a_7221_11eb_850a_2c56dc17e07frow13_col7{\n",
       "            background-color:  #f7b89c;\n",
       "            color:  #000000;\n",
       "        }#T_8ccc3e8a_7221_11eb_850a_2c56dc17e07frow13_col4{\n",
       "            background-color:  #455cce;\n",
       "            color:  #f1f1f1;\n",
       "        }</style><table id=\"T_8ccc3e8a_7221_11eb_850a_2c56dc17e07f\" ><thead>    <tr>        <th class=\"blank level0\" ></th>        <th class=\"col_heading level0 col0\" >alcohol</th>        <th class=\"col_heading level0 col1\" >malic_acid</th>        <th class=\"col_heading level0 col2\" >ash</th>        <th class=\"col_heading level0 col3\" >alcalinity_of_ash</th>        <th class=\"col_heading level0 col4\" >magnesium</th>        <th class=\"col_heading level0 col5\" >total_phenols</th>        <th class=\"col_heading level0 col6\" >flavanoids</th>        <th class=\"col_heading level0 col7\" >nonflavanoid_phenols</th>        <th class=\"col_heading level0 col8\" >proanthocyanins</th>        <th class=\"col_heading level0 col9\" >color_intensity</th>        <th class=\"col_heading level0 col10\" >hue</th>        <th class=\"col_heading level0 col11\" >od280/od315_of_diluted_wines</th>        <th class=\"col_heading level0 col12\" >proline</th>        <th class=\"col_heading level0 col13\" >target</th>    </tr></thead><tbody>\n",
       "                <tr>\n",
       "                        <th id=\"T_8ccc3e8a_7221_11eb_850a_2c56dc17e07flevel0_row0\" class=\"row_heading level0 row0\" >alcohol</th>\n",
       "                        <td id=\"T_8ccc3e8a_7221_11eb_850a_2c56dc17e07frow0_col0\" class=\"data row0 col0\" >1.000000</td>\n",
       "                        <td id=\"T_8ccc3e8a_7221_11eb_850a_2c56dc17e07frow0_col1\" class=\"data row0 col1\" >0.094397</td>\n",
       "                        <td id=\"T_8ccc3e8a_7221_11eb_850a_2c56dc17e07frow0_col2\" class=\"data row0 col2\" >0.211545</td>\n",
       "                        <td id=\"T_8ccc3e8a_7221_11eb_850a_2c56dc17e07frow0_col3\" class=\"data row0 col3\" >-0.310235</td>\n",
       "                        <td id=\"T_8ccc3e8a_7221_11eb_850a_2c56dc17e07frow0_col4\" class=\"data row0 col4\" >0.270798</td>\n",
       "                        <td id=\"T_8ccc3e8a_7221_11eb_850a_2c56dc17e07frow0_col5\" class=\"data row0 col5\" >0.289101</td>\n",
       "                        <td id=\"T_8ccc3e8a_7221_11eb_850a_2c56dc17e07frow0_col6\" class=\"data row0 col6\" >0.236815</td>\n",
       "                        <td id=\"T_8ccc3e8a_7221_11eb_850a_2c56dc17e07frow0_col7\" class=\"data row0 col7\" >-0.155929</td>\n",
       "                        <td id=\"T_8ccc3e8a_7221_11eb_850a_2c56dc17e07frow0_col8\" class=\"data row0 col8\" >0.136698</td>\n",
       "                        <td id=\"T_8ccc3e8a_7221_11eb_850a_2c56dc17e07frow0_col9\" class=\"data row0 col9\" >0.546364</td>\n",
       "                        <td id=\"T_8ccc3e8a_7221_11eb_850a_2c56dc17e07frow0_col10\" class=\"data row0 col10\" >-0.071747</td>\n",
       "                        <td id=\"T_8ccc3e8a_7221_11eb_850a_2c56dc17e07frow0_col11\" class=\"data row0 col11\" >0.072343</td>\n",
       "                        <td id=\"T_8ccc3e8a_7221_11eb_850a_2c56dc17e07frow0_col12\" class=\"data row0 col12\" >0.643720</td>\n",
       "                        <td id=\"T_8ccc3e8a_7221_11eb_850a_2c56dc17e07frow0_col13\" class=\"data row0 col13\" >-0.328222</td>\n",
       "            </tr>\n",
       "            <tr>\n",
       "                        <th id=\"T_8ccc3e8a_7221_11eb_850a_2c56dc17e07flevel0_row1\" class=\"row_heading level0 row1\" >malic_acid</th>\n",
       "                        <td id=\"T_8ccc3e8a_7221_11eb_850a_2c56dc17e07frow1_col0\" class=\"data row1 col0\" >0.094397</td>\n",
       "                        <td id=\"T_8ccc3e8a_7221_11eb_850a_2c56dc17e07frow1_col1\" class=\"data row1 col1\" >1.000000</td>\n",
       "                        <td id=\"T_8ccc3e8a_7221_11eb_850a_2c56dc17e07frow1_col2\" class=\"data row1 col2\" >0.164045</td>\n",
       "                        <td id=\"T_8ccc3e8a_7221_11eb_850a_2c56dc17e07frow1_col3\" class=\"data row1 col3\" >0.288500</td>\n",
       "                        <td id=\"T_8ccc3e8a_7221_11eb_850a_2c56dc17e07frow1_col4\" class=\"data row1 col4\" >-0.054575</td>\n",
       "                        <td id=\"T_8ccc3e8a_7221_11eb_850a_2c56dc17e07frow1_col5\" class=\"data row1 col5\" >-0.335167</td>\n",
       "                        <td id=\"T_8ccc3e8a_7221_11eb_850a_2c56dc17e07frow1_col6\" class=\"data row1 col6\" >-0.411007</td>\n",
       "                        <td id=\"T_8ccc3e8a_7221_11eb_850a_2c56dc17e07frow1_col7\" class=\"data row1 col7\" >0.292977</td>\n",
       "                        <td id=\"T_8ccc3e8a_7221_11eb_850a_2c56dc17e07frow1_col8\" class=\"data row1 col8\" >-0.220746</td>\n",
       "                        <td id=\"T_8ccc3e8a_7221_11eb_850a_2c56dc17e07frow1_col9\" class=\"data row1 col9\" >0.248985</td>\n",
       "                        <td id=\"T_8ccc3e8a_7221_11eb_850a_2c56dc17e07frow1_col10\" class=\"data row1 col10\" >-0.561296</td>\n",
       "                        <td id=\"T_8ccc3e8a_7221_11eb_850a_2c56dc17e07frow1_col11\" class=\"data row1 col11\" >-0.368710</td>\n",
       "                        <td id=\"T_8ccc3e8a_7221_11eb_850a_2c56dc17e07frow1_col12\" class=\"data row1 col12\" >-0.192011</td>\n",
       "                        <td id=\"T_8ccc3e8a_7221_11eb_850a_2c56dc17e07frow1_col13\" class=\"data row1 col13\" >0.437776</td>\n",
       "            </tr>\n",
       "            <tr>\n",
       "                        <th id=\"T_8ccc3e8a_7221_11eb_850a_2c56dc17e07flevel0_row2\" class=\"row_heading level0 row2\" >ash</th>\n",
       "                        <td id=\"T_8ccc3e8a_7221_11eb_850a_2c56dc17e07frow2_col0\" class=\"data row2 col0\" >0.211545</td>\n",
       "                        <td id=\"T_8ccc3e8a_7221_11eb_850a_2c56dc17e07frow2_col1\" class=\"data row2 col1\" >0.164045</td>\n",
       "                        <td id=\"T_8ccc3e8a_7221_11eb_850a_2c56dc17e07frow2_col2\" class=\"data row2 col2\" >1.000000</td>\n",
       "                        <td id=\"T_8ccc3e8a_7221_11eb_850a_2c56dc17e07frow2_col3\" class=\"data row2 col3\" >0.443367</td>\n",
       "                        <td id=\"T_8ccc3e8a_7221_11eb_850a_2c56dc17e07frow2_col4\" class=\"data row2 col4\" >0.286587</td>\n",
       "                        <td id=\"T_8ccc3e8a_7221_11eb_850a_2c56dc17e07frow2_col5\" class=\"data row2 col5\" >0.128980</td>\n",
       "                        <td id=\"T_8ccc3e8a_7221_11eb_850a_2c56dc17e07frow2_col6\" class=\"data row2 col6\" >0.115077</td>\n",
       "                        <td id=\"T_8ccc3e8a_7221_11eb_850a_2c56dc17e07frow2_col7\" class=\"data row2 col7\" >0.186230</td>\n",
       "                        <td id=\"T_8ccc3e8a_7221_11eb_850a_2c56dc17e07frow2_col8\" class=\"data row2 col8\" >0.009652</td>\n",
       "                        <td id=\"T_8ccc3e8a_7221_11eb_850a_2c56dc17e07frow2_col9\" class=\"data row2 col9\" >0.258887</td>\n",
       "                        <td id=\"T_8ccc3e8a_7221_11eb_850a_2c56dc17e07frow2_col10\" class=\"data row2 col10\" >-0.074667</td>\n",
       "                        <td id=\"T_8ccc3e8a_7221_11eb_850a_2c56dc17e07frow2_col11\" class=\"data row2 col11\" >0.003911</td>\n",
       "                        <td id=\"T_8ccc3e8a_7221_11eb_850a_2c56dc17e07frow2_col12\" class=\"data row2 col12\" >0.223626</td>\n",
       "                        <td id=\"T_8ccc3e8a_7221_11eb_850a_2c56dc17e07frow2_col13\" class=\"data row2 col13\" >-0.049643</td>\n",
       "            </tr>\n",
       "            <tr>\n",
       "                        <th id=\"T_8ccc3e8a_7221_11eb_850a_2c56dc17e07flevel0_row3\" class=\"row_heading level0 row3\" >alcalinity_of_ash</th>\n",
       "                        <td id=\"T_8ccc3e8a_7221_11eb_850a_2c56dc17e07frow3_col0\" class=\"data row3 col0\" >-0.310235</td>\n",
       "                        <td id=\"T_8ccc3e8a_7221_11eb_850a_2c56dc17e07frow3_col1\" class=\"data row3 col1\" >0.288500</td>\n",
       "                        <td id=\"T_8ccc3e8a_7221_11eb_850a_2c56dc17e07frow3_col2\" class=\"data row3 col2\" >0.443367</td>\n",
       "                        <td id=\"T_8ccc3e8a_7221_11eb_850a_2c56dc17e07frow3_col3\" class=\"data row3 col3\" >1.000000</td>\n",
       "                        <td id=\"T_8ccc3e8a_7221_11eb_850a_2c56dc17e07frow3_col4\" class=\"data row3 col4\" >-0.083333</td>\n",
       "                        <td id=\"T_8ccc3e8a_7221_11eb_850a_2c56dc17e07frow3_col5\" class=\"data row3 col5\" >-0.321113</td>\n",
       "                        <td id=\"T_8ccc3e8a_7221_11eb_850a_2c56dc17e07frow3_col6\" class=\"data row3 col6\" >-0.351370</td>\n",
       "                        <td id=\"T_8ccc3e8a_7221_11eb_850a_2c56dc17e07frow3_col7\" class=\"data row3 col7\" >0.361922</td>\n",
       "                        <td id=\"T_8ccc3e8a_7221_11eb_850a_2c56dc17e07frow3_col8\" class=\"data row3 col8\" >-0.197327</td>\n",
       "                        <td id=\"T_8ccc3e8a_7221_11eb_850a_2c56dc17e07frow3_col9\" class=\"data row3 col9\" >0.018732</td>\n",
       "                        <td id=\"T_8ccc3e8a_7221_11eb_850a_2c56dc17e07frow3_col10\" class=\"data row3 col10\" >-0.273955</td>\n",
       "                        <td id=\"T_8ccc3e8a_7221_11eb_850a_2c56dc17e07frow3_col11\" class=\"data row3 col11\" >-0.276769</td>\n",
       "                        <td id=\"T_8ccc3e8a_7221_11eb_850a_2c56dc17e07frow3_col12\" class=\"data row3 col12\" >-0.440597</td>\n",
       "                        <td id=\"T_8ccc3e8a_7221_11eb_850a_2c56dc17e07frow3_col13\" class=\"data row3 col13\" >0.517859</td>\n",
       "            </tr>\n",
       "            <tr>\n",
       "                        <th id=\"T_8ccc3e8a_7221_11eb_850a_2c56dc17e07flevel0_row4\" class=\"row_heading level0 row4\" >magnesium</th>\n",
       "                        <td id=\"T_8ccc3e8a_7221_11eb_850a_2c56dc17e07frow4_col0\" class=\"data row4 col0\" >0.270798</td>\n",
       "                        <td id=\"T_8ccc3e8a_7221_11eb_850a_2c56dc17e07frow4_col1\" class=\"data row4 col1\" >-0.054575</td>\n",
       "                        <td id=\"T_8ccc3e8a_7221_11eb_850a_2c56dc17e07frow4_col2\" class=\"data row4 col2\" >0.286587</td>\n",
       "                        <td id=\"T_8ccc3e8a_7221_11eb_850a_2c56dc17e07frow4_col3\" class=\"data row4 col3\" >-0.083333</td>\n",
       "                        <td id=\"T_8ccc3e8a_7221_11eb_850a_2c56dc17e07frow4_col4\" class=\"data row4 col4\" >1.000000</td>\n",
       "                        <td id=\"T_8ccc3e8a_7221_11eb_850a_2c56dc17e07frow4_col5\" class=\"data row4 col5\" >0.214401</td>\n",
       "                        <td id=\"T_8ccc3e8a_7221_11eb_850a_2c56dc17e07frow4_col6\" class=\"data row4 col6\" >0.195784</td>\n",
       "                        <td id=\"T_8ccc3e8a_7221_11eb_850a_2c56dc17e07frow4_col7\" class=\"data row4 col7\" >-0.256294</td>\n",
       "                        <td id=\"T_8ccc3e8a_7221_11eb_850a_2c56dc17e07frow4_col8\" class=\"data row4 col8\" >0.236441</td>\n",
       "                        <td id=\"T_8ccc3e8a_7221_11eb_850a_2c56dc17e07frow4_col9\" class=\"data row4 col9\" >0.199950</td>\n",
       "                        <td id=\"T_8ccc3e8a_7221_11eb_850a_2c56dc17e07frow4_col10\" class=\"data row4 col10\" >0.055398</td>\n",
       "                        <td id=\"T_8ccc3e8a_7221_11eb_850a_2c56dc17e07frow4_col11\" class=\"data row4 col11\" >0.066004</td>\n",
       "                        <td id=\"T_8ccc3e8a_7221_11eb_850a_2c56dc17e07frow4_col12\" class=\"data row4 col12\" >0.393351</td>\n",
       "                        <td id=\"T_8ccc3e8a_7221_11eb_850a_2c56dc17e07frow4_col13\" class=\"data row4 col13\" >-0.209179</td>\n",
       "            </tr>\n",
       "            <tr>\n",
       "                        <th id=\"T_8ccc3e8a_7221_11eb_850a_2c56dc17e07flevel0_row5\" class=\"row_heading level0 row5\" >total_phenols</th>\n",
       "                        <td id=\"T_8ccc3e8a_7221_11eb_850a_2c56dc17e07frow5_col0\" class=\"data row5 col0\" >0.289101</td>\n",
       "                        <td id=\"T_8ccc3e8a_7221_11eb_850a_2c56dc17e07frow5_col1\" class=\"data row5 col1\" >-0.335167</td>\n",
       "                        <td id=\"T_8ccc3e8a_7221_11eb_850a_2c56dc17e07frow5_col2\" class=\"data row5 col2\" >0.128980</td>\n",
       "                        <td id=\"T_8ccc3e8a_7221_11eb_850a_2c56dc17e07frow5_col3\" class=\"data row5 col3\" >-0.321113</td>\n",
       "                        <td id=\"T_8ccc3e8a_7221_11eb_850a_2c56dc17e07frow5_col4\" class=\"data row5 col4\" >0.214401</td>\n",
       "                        <td id=\"T_8ccc3e8a_7221_11eb_850a_2c56dc17e07frow5_col5\" class=\"data row5 col5\" >1.000000</td>\n",
       "                        <td id=\"T_8ccc3e8a_7221_11eb_850a_2c56dc17e07frow5_col6\" class=\"data row5 col6\" >0.864564</td>\n",
       "                        <td id=\"T_8ccc3e8a_7221_11eb_850a_2c56dc17e07frow5_col7\" class=\"data row5 col7\" >-0.449935</td>\n",
       "                        <td id=\"T_8ccc3e8a_7221_11eb_850a_2c56dc17e07frow5_col8\" class=\"data row5 col8\" >0.612413</td>\n",
       "                        <td id=\"T_8ccc3e8a_7221_11eb_850a_2c56dc17e07frow5_col9\" class=\"data row5 col9\" >-0.055136</td>\n",
       "                        <td id=\"T_8ccc3e8a_7221_11eb_850a_2c56dc17e07frow5_col10\" class=\"data row5 col10\" >0.433681</td>\n",
       "                        <td id=\"T_8ccc3e8a_7221_11eb_850a_2c56dc17e07frow5_col11\" class=\"data row5 col11\" >0.699949</td>\n",
       "                        <td id=\"T_8ccc3e8a_7221_11eb_850a_2c56dc17e07frow5_col12\" class=\"data row5 col12\" >0.498115</td>\n",
       "                        <td id=\"T_8ccc3e8a_7221_11eb_850a_2c56dc17e07frow5_col13\" class=\"data row5 col13\" >-0.719163</td>\n",
       "            </tr>\n",
       "            <tr>\n",
       "                        <th id=\"T_8ccc3e8a_7221_11eb_850a_2c56dc17e07flevel0_row6\" class=\"row_heading level0 row6\" >flavanoids</th>\n",
       "                        <td id=\"T_8ccc3e8a_7221_11eb_850a_2c56dc17e07frow6_col0\" class=\"data row6 col0\" >0.236815</td>\n",
       "                        <td id=\"T_8ccc3e8a_7221_11eb_850a_2c56dc17e07frow6_col1\" class=\"data row6 col1\" >-0.411007</td>\n",
       "                        <td id=\"T_8ccc3e8a_7221_11eb_850a_2c56dc17e07frow6_col2\" class=\"data row6 col2\" >0.115077</td>\n",
       "                        <td id=\"T_8ccc3e8a_7221_11eb_850a_2c56dc17e07frow6_col3\" class=\"data row6 col3\" >-0.351370</td>\n",
       "                        <td id=\"T_8ccc3e8a_7221_11eb_850a_2c56dc17e07frow6_col4\" class=\"data row6 col4\" >0.195784</td>\n",
       "                        <td id=\"T_8ccc3e8a_7221_11eb_850a_2c56dc17e07frow6_col5\" class=\"data row6 col5\" >0.864564</td>\n",
       "                        <td id=\"T_8ccc3e8a_7221_11eb_850a_2c56dc17e07frow6_col6\" class=\"data row6 col6\" >1.000000</td>\n",
       "                        <td id=\"T_8ccc3e8a_7221_11eb_850a_2c56dc17e07frow6_col7\" class=\"data row6 col7\" >-0.537900</td>\n",
       "                        <td id=\"T_8ccc3e8a_7221_11eb_850a_2c56dc17e07frow6_col8\" class=\"data row6 col8\" >0.652692</td>\n",
       "                        <td id=\"T_8ccc3e8a_7221_11eb_850a_2c56dc17e07frow6_col9\" class=\"data row6 col9\" >-0.172379</td>\n",
       "                        <td id=\"T_8ccc3e8a_7221_11eb_850a_2c56dc17e07frow6_col10\" class=\"data row6 col10\" >0.543479</td>\n",
       "                        <td id=\"T_8ccc3e8a_7221_11eb_850a_2c56dc17e07frow6_col11\" class=\"data row6 col11\" >0.787194</td>\n",
       "                        <td id=\"T_8ccc3e8a_7221_11eb_850a_2c56dc17e07frow6_col12\" class=\"data row6 col12\" >0.494193</td>\n",
       "                        <td id=\"T_8ccc3e8a_7221_11eb_850a_2c56dc17e07frow6_col13\" class=\"data row6 col13\" >-0.847498</td>\n",
       "            </tr>\n",
       "            <tr>\n",
       "                        <th id=\"T_8ccc3e8a_7221_11eb_850a_2c56dc17e07flevel0_row7\" class=\"row_heading level0 row7\" >nonflavanoid_phenols</th>\n",
       "                        <td id=\"T_8ccc3e8a_7221_11eb_850a_2c56dc17e07frow7_col0\" class=\"data row7 col0\" >-0.155929</td>\n",
       "                        <td id=\"T_8ccc3e8a_7221_11eb_850a_2c56dc17e07frow7_col1\" class=\"data row7 col1\" >0.292977</td>\n",
       "                        <td id=\"T_8ccc3e8a_7221_11eb_850a_2c56dc17e07frow7_col2\" class=\"data row7 col2\" >0.186230</td>\n",
       "                        <td id=\"T_8ccc3e8a_7221_11eb_850a_2c56dc17e07frow7_col3\" class=\"data row7 col3\" >0.361922</td>\n",
       "                        <td id=\"T_8ccc3e8a_7221_11eb_850a_2c56dc17e07frow7_col4\" class=\"data row7 col4\" >-0.256294</td>\n",
       "                        <td id=\"T_8ccc3e8a_7221_11eb_850a_2c56dc17e07frow7_col5\" class=\"data row7 col5\" >-0.449935</td>\n",
       "                        <td id=\"T_8ccc3e8a_7221_11eb_850a_2c56dc17e07frow7_col6\" class=\"data row7 col6\" >-0.537900</td>\n",
       "                        <td id=\"T_8ccc3e8a_7221_11eb_850a_2c56dc17e07frow7_col7\" class=\"data row7 col7\" >1.000000</td>\n",
       "                        <td id=\"T_8ccc3e8a_7221_11eb_850a_2c56dc17e07frow7_col8\" class=\"data row7 col8\" >-0.365845</td>\n",
       "                        <td id=\"T_8ccc3e8a_7221_11eb_850a_2c56dc17e07frow7_col9\" class=\"data row7 col9\" >0.139057</td>\n",
       "                        <td id=\"T_8ccc3e8a_7221_11eb_850a_2c56dc17e07frow7_col10\" class=\"data row7 col10\" >-0.262640</td>\n",
       "                        <td id=\"T_8ccc3e8a_7221_11eb_850a_2c56dc17e07frow7_col11\" class=\"data row7 col11\" >-0.503270</td>\n",
       "                        <td id=\"T_8ccc3e8a_7221_11eb_850a_2c56dc17e07frow7_col12\" class=\"data row7 col12\" >-0.311385</td>\n",
       "                        <td id=\"T_8ccc3e8a_7221_11eb_850a_2c56dc17e07frow7_col13\" class=\"data row7 col13\" >0.489109</td>\n",
       "            </tr>\n",
       "            <tr>\n",
       "                        <th id=\"T_8ccc3e8a_7221_11eb_850a_2c56dc17e07flevel0_row8\" class=\"row_heading level0 row8\" >proanthocyanins</th>\n",
       "                        <td id=\"T_8ccc3e8a_7221_11eb_850a_2c56dc17e07frow8_col0\" class=\"data row8 col0\" >0.136698</td>\n",
       "                        <td id=\"T_8ccc3e8a_7221_11eb_850a_2c56dc17e07frow8_col1\" class=\"data row8 col1\" >-0.220746</td>\n",
       "                        <td id=\"T_8ccc3e8a_7221_11eb_850a_2c56dc17e07frow8_col2\" class=\"data row8 col2\" >0.009652</td>\n",
       "                        <td id=\"T_8ccc3e8a_7221_11eb_850a_2c56dc17e07frow8_col3\" class=\"data row8 col3\" >-0.197327</td>\n",
       "                        <td id=\"T_8ccc3e8a_7221_11eb_850a_2c56dc17e07frow8_col4\" class=\"data row8 col4\" >0.236441</td>\n",
       "                        <td id=\"T_8ccc3e8a_7221_11eb_850a_2c56dc17e07frow8_col5\" class=\"data row8 col5\" >0.612413</td>\n",
       "                        <td id=\"T_8ccc3e8a_7221_11eb_850a_2c56dc17e07frow8_col6\" class=\"data row8 col6\" >0.652692</td>\n",
       "                        <td id=\"T_8ccc3e8a_7221_11eb_850a_2c56dc17e07frow8_col7\" class=\"data row8 col7\" >-0.365845</td>\n",
       "                        <td id=\"T_8ccc3e8a_7221_11eb_850a_2c56dc17e07frow8_col8\" class=\"data row8 col8\" >1.000000</td>\n",
       "                        <td id=\"T_8ccc3e8a_7221_11eb_850a_2c56dc17e07frow8_col9\" class=\"data row8 col9\" >-0.025250</td>\n",
       "                        <td id=\"T_8ccc3e8a_7221_11eb_850a_2c56dc17e07frow8_col10\" class=\"data row8 col10\" >0.295544</td>\n",
       "                        <td id=\"T_8ccc3e8a_7221_11eb_850a_2c56dc17e07frow8_col11\" class=\"data row8 col11\" >0.519067</td>\n",
       "                        <td id=\"T_8ccc3e8a_7221_11eb_850a_2c56dc17e07frow8_col12\" class=\"data row8 col12\" >0.330417</td>\n",
       "                        <td id=\"T_8ccc3e8a_7221_11eb_850a_2c56dc17e07frow8_col13\" class=\"data row8 col13\" >-0.499130</td>\n",
       "            </tr>\n",
       "            <tr>\n",
       "                        <th id=\"T_8ccc3e8a_7221_11eb_850a_2c56dc17e07flevel0_row9\" class=\"row_heading level0 row9\" >color_intensity</th>\n",
       "                        <td id=\"T_8ccc3e8a_7221_11eb_850a_2c56dc17e07frow9_col0\" class=\"data row9 col0\" >0.546364</td>\n",
       "                        <td id=\"T_8ccc3e8a_7221_11eb_850a_2c56dc17e07frow9_col1\" class=\"data row9 col1\" >0.248985</td>\n",
       "                        <td id=\"T_8ccc3e8a_7221_11eb_850a_2c56dc17e07frow9_col2\" class=\"data row9 col2\" >0.258887</td>\n",
       "                        <td id=\"T_8ccc3e8a_7221_11eb_850a_2c56dc17e07frow9_col3\" class=\"data row9 col3\" >0.018732</td>\n",
       "                        <td id=\"T_8ccc3e8a_7221_11eb_850a_2c56dc17e07frow9_col4\" class=\"data row9 col4\" >0.199950</td>\n",
       "                        <td id=\"T_8ccc3e8a_7221_11eb_850a_2c56dc17e07frow9_col5\" class=\"data row9 col5\" >-0.055136</td>\n",
       "                        <td id=\"T_8ccc3e8a_7221_11eb_850a_2c56dc17e07frow9_col6\" class=\"data row9 col6\" >-0.172379</td>\n",
       "                        <td id=\"T_8ccc3e8a_7221_11eb_850a_2c56dc17e07frow9_col7\" class=\"data row9 col7\" >0.139057</td>\n",
       "                        <td id=\"T_8ccc3e8a_7221_11eb_850a_2c56dc17e07frow9_col8\" class=\"data row9 col8\" >-0.025250</td>\n",
       "                        <td id=\"T_8ccc3e8a_7221_11eb_850a_2c56dc17e07frow9_col9\" class=\"data row9 col9\" >1.000000</td>\n",
       "                        <td id=\"T_8ccc3e8a_7221_11eb_850a_2c56dc17e07frow9_col10\" class=\"data row9 col10\" >-0.521813</td>\n",
       "                        <td id=\"T_8ccc3e8a_7221_11eb_850a_2c56dc17e07frow9_col11\" class=\"data row9 col11\" >-0.428815</td>\n",
       "                        <td id=\"T_8ccc3e8a_7221_11eb_850a_2c56dc17e07frow9_col12\" class=\"data row9 col12\" >0.316100</td>\n",
       "                        <td id=\"T_8ccc3e8a_7221_11eb_850a_2c56dc17e07frow9_col13\" class=\"data row9 col13\" >0.265668</td>\n",
       "            </tr>\n",
       "            <tr>\n",
       "                        <th id=\"T_8ccc3e8a_7221_11eb_850a_2c56dc17e07flevel0_row10\" class=\"row_heading level0 row10\" >hue</th>\n",
       "                        <td id=\"T_8ccc3e8a_7221_11eb_850a_2c56dc17e07frow10_col0\" class=\"data row10 col0\" >-0.071747</td>\n",
       "                        <td id=\"T_8ccc3e8a_7221_11eb_850a_2c56dc17e07frow10_col1\" class=\"data row10 col1\" >-0.561296</td>\n",
       "                        <td id=\"T_8ccc3e8a_7221_11eb_850a_2c56dc17e07frow10_col2\" class=\"data row10 col2\" >-0.074667</td>\n",
       "                        <td id=\"T_8ccc3e8a_7221_11eb_850a_2c56dc17e07frow10_col3\" class=\"data row10 col3\" >-0.273955</td>\n",
       "                        <td id=\"T_8ccc3e8a_7221_11eb_850a_2c56dc17e07frow10_col4\" class=\"data row10 col4\" >0.055398</td>\n",
       "                        <td id=\"T_8ccc3e8a_7221_11eb_850a_2c56dc17e07frow10_col5\" class=\"data row10 col5\" >0.433681</td>\n",
       "                        <td id=\"T_8ccc3e8a_7221_11eb_850a_2c56dc17e07frow10_col6\" class=\"data row10 col6\" >0.543479</td>\n",
       "                        <td id=\"T_8ccc3e8a_7221_11eb_850a_2c56dc17e07frow10_col7\" class=\"data row10 col7\" >-0.262640</td>\n",
       "                        <td id=\"T_8ccc3e8a_7221_11eb_850a_2c56dc17e07frow10_col8\" class=\"data row10 col8\" >0.295544</td>\n",
       "                        <td id=\"T_8ccc3e8a_7221_11eb_850a_2c56dc17e07frow10_col9\" class=\"data row10 col9\" >-0.521813</td>\n",
       "                        <td id=\"T_8ccc3e8a_7221_11eb_850a_2c56dc17e07frow10_col10\" class=\"data row10 col10\" >1.000000</td>\n",
       "                        <td id=\"T_8ccc3e8a_7221_11eb_850a_2c56dc17e07frow10_col11\" class=\"data row10 col11\" >0.565468</td>\n",
       "                        <td id=\"T_8ccc3e8a_7221_11eb_850a_2c56dc17e07frow10_col12\" class=\"data row10 col12\" >0.236183</td>\n",
       "                        <td id=\"T_8ccc3e8a_7221_11eb_850a_2c56dc17e07frow10_col13\" class=\"data row10 col13\" >-0.617369</td>\n",
       "            </tr>\n",
       "            <tr>\n",
       "                        <th id=\"T_8ccc3e8a_7221_11eb_850a_2c56dc17e07flevel0_row11\" class=\"row_heading level0 row11\" >od280/od315_of_diluted_wines</th>\n",
       "                        <td id=\"T_8ccc3e8a_7221_11eb_850a_2c56dc17e07frow11_col0\" class=\"data row11 col0\" >0.072343</td>\n",
       "                        <td id=\"T_8ccc3e8a_7221_11eb_850a_2c56dc17e07frow11_col1\" class=\"data row11 col1\" >-0.368710</td>\n",
       "                        <td id=\"T_8ccc3e8a_7221_11eb_850a_2c56dc17e07frow11_col2\" class=\"data row11 col2\" >0.003911</td>\n",
       "                        <td id=\"T_8ccc3e8a_7221_11eb_850a_2c56dc17e07frow11_col3\" class=\"data row11 col3\" >-0.276769</td>\n",
       "                        <td id=\"T_8ccc3e8a_7221_11eb_850a_2c56dc17e07frow11_col4\" class=\"data row11 col4\" >0.066004</td>\n",
       "                        <td id=\"T_8ccc3e8a_7221_11eb_850a_2c56dc17e07frow11_col5\" class=\"data row11 col5\" >0.699949</td>\n",
       "                        <td id=\"T_8ccc3e8a_7221_11eb_850a_2c56dc17e07frow11_col6\" class=\"data row11 col6\" >0.787194</td>\n",
       "                        <td id=\"T_8ccc3e8a_7221_11eb_850a_2c56dc17e07frow11_col7\" class=\"data row11 col7\" >-0.503270</td>\n",
       "                        <td id=\"T_8ccc3e8a_7221_11eb_850a_2c56dc17e07frow11_col8\" class=\"data row11 col8\" >0.519067</td>\n",
       "                        <td id=\"T_8ccc3e8a_7221_11eb_850a_2c56dc17e07frow11_col9\" class=\"data row11 col9\" >-0.428815</td>\n",
       "                        <td id=\"T_8ccc3e8a_7221_11eb_850a_2c56dc17e07frow11_col10\" class=\"data row11 col10\" >0.565468</td>\n",
       "                        <td id=\"T_8ccc3e8a_7221_11eb_850a_2c56dc17e07frow11_col11\" class=\"data row11 col11\" >1.000000</td>\n",
       "                        <td id=\"T_8ccc3e8a_7221_11eb_850a_2c56dc17e07frow11_col12\" class=\"data row11 col12\" >0.312761</td>\n",
       "                        <td id=\"T_8ccc3e8a_7221_11eb_850a_2c56dc17e07frow11_col13\" class=\"data row11 col13\" >-0.788230</td>\n",
       "            </tr>\n",
       "            <tr>\n",
       "                        <th id=\"T_8ccc3e8a_7221_11eb_850a_2c56dc17e07flevel0_row12\" class=\"row_heading level0 row12\" >proline</th>\n",
       "                        <td id=\"T_8ccc3e8a_7221_11eb_850a_2c56dc17e07frow12_col0\" class=\"data row12 col0\" >0.643720</td>\n",
       "                        <td id=\"T_8ccc3e8a_7221_11eb_850a_2c56dc17e07frow12_col1\" class=\"data row12 col1\" >-0.192011</td>\n",
       "                        <td id=\"T_8ccc3e8a_7221_11eb_850a_2c56dc17e07frow12_col2\" class=\"data row12 col2\" >0.223626</td>\n",
       "                        <td id=\"T_8ccc3e8a_7221_11eb_850a_2c56dc17e07frow12_col3\" class=\"data row12 col3\" >-0.440597</td>\n",
       "                        <td id=\"T_8ccc3e8a_7221_11eb_850a_2c56dc17e07frow12_col4\" class=\"data row12 col4\" >0.393351</td>\n",
       "                        <td id=\"T_8ccc3e8a_7221_11eb_850a_2c56dc17e07frow12_col5\" class=\"data row12 col5\" >0.498115</td>\n",
       "                        <td id=\"T_8ccc3e8a_7221_11eb_850a_2c56dc17e07frow12_col6\" class=\"data row12 col6\" >0.494193</td>\n",
       "                        <td id=\"T_8ccc3e8a_7221_11eb_850a_2c56dc17e07frow12_col7\" class=\"data row12 col7\" >-0.311385</td>\n",
       "                        <td id=\"T_8ccc3e8a_7221_11eb_850a_2c56dc17e07frow12_col8\" class=\"data row12 col8\" >0.330417</td>\n",
       "                        <td id=\"T_8ccc3e8a_7221_11eb_850a_2c56dc17e07frow12_col9\" class=\"data row12 col9\" >0.316100</td>\n",
       "                        <td id=\"T_8ccc3e8a_7221_11eb_850a_2c56dc17e07frow12_col10\" class=\"data row12 col10\" >0.236183</td>\n",
       "                        <td id=\"T_8ccc3e8a_7221_11eb_850a_2c56dc17e07frow12_col11\" class=\"data row12 col11\" >0.312761</td>\n",
       "                        <td id=\"T_8ccc3e8a_7221_11eb_850a_2c56dc17e07frow12_col12\" class=\"data row12 col12\" >1.000000</td>\n",
       "                        <td id=\"T_8ccc3e8a_7221_11eb_850a_2c56dc17e07frow12_col13\" class=\"data row12 col13\" >-0.633717</td>\n",
       "            </tr>\n",
       "            <tr>\n",
       "                        <th id=\"T_8ccc3e8a_7221_11eb_850a_2c56dc17e07flevel0_row13\" class=\"row_heading level0 row13\" >target</th>\n",
       "                        <td id=\"T_8ccc3e8a_7221_11eb_850a_2c56dc17e07frow13_col0\" class=\"data row13 col0\" >-0.328222</td>\n",
       "                        <td id=\"T_8ccc3e8a_7221_11eb_850a_2c56dc17e07frow13_col1\" class=\"data row13 col1\" >0.437776</td>\n",
       "                        <td id=\"T_8ccc3e8a_7221_11eb_850a_2c56dc17e07frow13_col2\" class=\"data row13 col2\" >-0.049643</td>\n",
       "                        <td id=\"T_8ccc3e8a_7221_11eb_850a_2c56dc17e07frow13_col3\" class=\"data row13 col3\" >0.517859</td>\n",
       "                        <td id=\"T_8ccc3e8a_7221_11eb_850a_2c56dc17e07frow13_col4\" class=\"data row13 col4\" >-0.209179</td>\n",
       "                        <td id=\"T_8ccc3e8a_7221_11eb_850a_2c56dc17e07frow13_col5\" class=\"data row13 col5\" >-0.719163</td>\n",
       "                        <td id=\"T_8ccc3e8a_7221_11eb_850a_2c56dc17e07frow13_col6\" class=\"data row13 col6\" >-0.847498</td>\n",
       "                        <td id=\"T_8ccc3e8a_7221_11eb_850a_2c56dc17e07frow13_col7\" class=\"data row13 col7\" >0.489109</td>\n",
       "                        <td id=\"T_8ccc3e8a_7221_11eb_850a_2c56dc17e07frow13_col8\" class=\"data row13 col8\" >-0.499130</td>\n",
       "                        <td id=\"T_8ccc3e8a_7221_11eb_850a_2c56dc17e07frow13_col9\" class=\"data row13 col9\" >0.265668</td>\n",
       "                        <td id=\"T_8ccc3e8a_7221_11eb_850a_2c56dc17e07frow13_col10\" class=\"data row13 col10\" >-0.617369</td>\n",
       "                        <td id=\"T_8ccc3e8a_7221_11eb_850a_2c56dc17e07frow13_col11\" class=\"data row13 col11\" >-0.788230</td>\n",
       "                        <td id=\"T_8ccc3e8a_7221_11eb_850a_2c56dc17e07frow13_col12\" class=\"data row13 col12\" >-0.633717</td>\n",
       "                        <td id=\"T_8ccc3e8a_7221_11eb_850a_2c56dc17e07frow13_col13\" class=\"data row13 col13\" >1.000000</td>\n",
       "            </tr>\n",
       "    </tbody></table>"
      ],
      "text/plain": [
       "<pandas.io.formats.style.Styler at 0x16dc4ced790>"
      ]
     },
     "execution_count": 62,
     "metadata": {},
     "output_type": "execute_result"
    }
   ],
   "source": [
    "X_corr = X.corr()\n",
    "X_corr.style.background_gradient(cmap='coolwarm')"
   ]
  },
  {
   "cell_type": "markdown",
   "metadata": {},
   "source": [
    "### Task 2.9\n",
    "Создайте список high_corr из признаков, корреляция которых с полем target по абсолютному значению превышает 0.5 (причем, само поле target не должно входить в этот список)."
   ]
  },
  {
   "cell_type": "code",
   "execution_count": 63,
   "metadata": {},
   "outputs": [
    {
     "data": {
      "text/plain": [
       "['alcalinity_of_ash',\n",
       " 'total_phenols',\n",
       " 'flavanoids',\n",
       " 'hue',\n",
       " 'od280/od315_of_diluted_wines',\n",
       " 'proline']"
      ]
     },
     "execution_count": 63,
     "metadata": {},
     "output_type": "execute_result"
    }
   ],
   "source": [
    "high_corr = []\n",
    "for feature_name in data.feature_names:\n",
    "    if (abs(X_corr[feature_name][::-1][0]) > 0.5):\n",
    "        high_corr.append(feature_name)\n",
    "high_corr"
   ]
  },
  {
   "cell_type": "markdown",
   "metadata": {},
   "source": [
    "### Task 2.10\n",
    "Удалите из датафрейма X поле с целевой переменной. Для всех признаков, названия которых содержатся в списке high_corr, вычислите квадрат их значений и добавьте в датафрейм X соответствующие поля с суффиксом '_2', добавленного к первоначальному названию признака. Итоговый датафрейм должен содержать все поля, которые, были в нем изначально, а также поля с признаками из списка high_corr, возведенными в квадрат. Выведите описание полей датафрейма X с помощью метода describe."
   ]
  },
  {
   "cell_type": "code",
   "execution_count": 64,
   "metadata": {},
   "outputs": [],
   "source": [
    "X.drop('target', axis = 1, inplace = True)"
   ]
  },
  {
   "cell_type": "code",
   "execution_count": 65,
   "metadata": {},
   "outputs": [],
   "source": [
    "for feature_name in high_corr:\n",
    "    X[f'{feature_name}_2'] = X[feature_name]**2"
   ]
  },
  {
   "cell_type": "code",
   "execution_count": 66,
   "metadata": {},
   "outputs": [
    {
     "data": {
      "text/html": [
       "<div>\n",
       "<style scoped>\n",
       "    .dataframe tbody tr th:only-of-type {\n",
       "        vertical-align: middle;\n",
       "    }\n",
       "\n",
       "    .dataframe tbody tr th {\n",
       "        vertical-align: top;\n",
       "    }\n",
       "\n",
       "    .dataframe thead th {\n",
       "        text-align: right;\n",
       "    }\n",
       "</style>\n",
       "<table border=\"1\" class=\"dataframe\">\n",
       "  <thead>\n",
       "    <tr style=\"text-align: right;\">\n",
       "      <th></th>\n",
       "      <th>alcohol</th>\n",
       "      <th>malic_acid</th>\n",
       "      <th>ash</th>\n",
       "      <th>alcalinity_of_ash</th>\n",
       "      <th>magnesium</th>\n",
       "      <th>total_phenols</th>\n",
       "      <th>flavanoids</th>\n",
       "      <th>nonflavanoid_phenols</th>\n",
       "      <th>proanthocyanins</th>\n",
       "      <th>color_intensity</th>\n",
       "      <th>hue</th>\n",
       "      <th>od280/od315_of_diluted_wines</th>\n",
       "      <th>proline</th>\n",
       "      <th>alcalinity_of_ash_2</th>\n",
       "      <th>total_phenols_2</th>\n",
       "      <th>flavanoids_2</th>\n",
       "      <th>hue_2</th>\n",
       "      <th>od280/od315_of_diluted_wines_2</th>\n",
       "      <th>proline_2</th>\n",
       "    </tr>\n",
       "  </thead>\n",
       "  <tbody>\n",
       "    <tr>\n",
       "      <th>count</th>\n",
       "      <td>178.000000</td>\n",
       "      <td>178.000000</td>\n",
       "      <td>178.000000</td>\n",
       "      <td>178.000000</td>\n",
       "      <td>178.000000</td>\n",
       "      <td>178.000000</td>\n",
       "      <td>178.000000</td>\n",
       "      <td>178.000000</td>\n",
       "      <td>178.000000</td>\n",
       "      <td>178.000000</td>\n",
       "      <td>178.000000</td>\n",
       "      <td>178.000000</td>\n",
       "      <td>178.000000</td>\n",
       "      <td>178.000000</td>\n",
       "      <td>178.000000</td>\n",
       "      <td>178.000000</td>\n",
       "      <td>178.000000</td>\n",
       "      <td>178.000000</td>\n",
       "      <td>1.780000e+02</td>\n",
       "    </tr>\n",
       "    <tr>\n",
       "      <th>mean</th>\n",
       "      <td>13.000618</td>\n",
       "      <td>2.336348</td>\n",
       "      <td>2.366517</td>\n",
       "      <td>19.494944</td>\n",
       "      <td>99.741573</td>\n",
       "      <td>2.295112</td>\n",
       "      <td>2.029270</td>\n",
       "      <td>0.361854</td>\n",
       "      <td>1.590899</td>\n",
       "      <td>5.058090</td>\n",
       "      <td>0.957449</td>\n",
       "      <td>2.611685</td>\n",
       "      <td>746.893258</td>\n",
       "      <td>391.142865</td>\n",
       "      <td>5.657030</td>\n",
       "      <td>5.110049</td>\n",
       "      <td>0.968661</td>\n",
       "      <td>7.322155</td>\n",
       "      <td>6.564591e+05</td>\n",
       "    </tr>\n",
       "    <tr>\n",
       "      <th>std</th>\n",
       "      <td>0.811827</td>\n",
       "      <td>1.117146</td>\n",
       "      <td>0.274344</td>\n",
       "      <td>3.339564</td>\n",
       "      <td>14.282484</td>\n",
       "      <td>0.625851</td>\n",
       "      <td>0.998859</td>\n",
       "      <td>0.124453</td>\n",
       "      <td>0.572359</td>\n",
       "      <td>2.318286</td>\n",
       "      <td>0.228572</td>\n",
       "      <td>0.709990</td>\n",
       "      <td>314.907474</td>\n",
       "      <td>133.671775</td>\n",
       "      <td>2.936294</td>\n",
       "      <td>4.211441</td>\n",
       "      <td>0.443798</td>\n",
       "      <td>3.584316</td>\n",
       "      <td>5.558591e+05</td>\n",
       "    </tr>\n",
       "    <tr>\n",
       "      <th>min</th>\n",
       "      <td>11.030000</td>\n",
       "      <td>0.740000</td>\n",
       "      <td>1.360000</td>\n",
       "      <td>10.600000</td>\n",
       "      <td>70.000000</td>\n",
       "      <td>0.980000</td>\n",
       "      <td>0.340000</td>\n",
       "      <td>0.130000</td>\n",
       "      <td>0.410000</td>\n",
       "      <td>1.280000</td>\n",
       "      <td>0.480000</td>\n",
       "      <td>1.270000</td>\n",
       "      <td>278.000000</td>\n",
       "      <td>112.360000</td>\n",
       "      <td>0.960400</td>\n",
       "      <td>0.115600</td>\n",
       "      <td>0.230400</td>\n",
       "      <td>1.612900</td>\n",
       "      <td>7.728400e+04</td>\n",
       "    </tr>\n",
       "    <tr>\n",
       "      <th>25%</th>\n",
       "      <td>12.362500</td>\n",
       "      <td>1.602500</td>\n",
       "      <td>2.210000</td>\n",
       "      <td>17.200000</td>\n",
       "      <td>88.000000</td>\n",
       "      <td>1.742500</td>\n",
       "      <td>1.205000</td>\n",
       "      <td>0.270000</td>\n",
       "      <td>1.250000</td>\n",
       "      <td>3.220000</td>\n",
       "      <td>0.782500</td>\n",
       "      <td>1.937500</td>\n",
       "      <td>500.500000</td>\n",
       "      <td>295.840000</td>\n",
       "      <td>3.036325</td>\n",
       "      <td>1.452100</td>\n",
       "      <td>0.612325</td>\n",
       "      <td>3.754075</td>\n",
       "      <td>2.505010e+05</td>\n",
       "    </tr>\n",
       "    <tr>\n",
       "      <th>50%</th>\n",
       "      <td>13.050000</td>\n",
       "      <td>1.865000</td>\n",
       "      <td>2.360000</td>\n",
       "      <td>19.500000</td>\n",
       "      <td>98.000000</td>\n",
       "      <td>2.355000</td>\n",
       "      <td>2.135000</td>\n",
       "      <td>0.340000</td>\n",
       "      <td>1.555000</td>\n",
       "      <td>4.690000</td>\n",
       "      <td>0.965000</td>\n",
       "      <td>2.780000</td>\n",
       "      <td>673.500000</td>\n",
       "      <td>380.250000</td>\n",
       "      <td>5.546050</td>\n",
       "      <td>4.558250</td>\n",
       "      <td>0.931250</td>\n",
       "      <td>7.728400</td>\n",
       "      <td>4.536045e+05</td>\n",
       "    </tr>\n",
       "    <tr>\n",
       "      <th>75%</th>\n",
       "      <td>13.677500</td>\n",
       "      <td>3.082500</td>\n",
       "      <td>2.557500</td>\n",
       "      <td>21.500000</td>\n",
       "      <td>107.000000</td>\n",
       "      <td>2.800000</td>\n",
       "      <td>2.875000</td>\n",
       "      <td>0.437500</td>\n",
       "      <td>1.950000</td>\n",
       "      <td>6.200000</td>\n",
       "      <td>1.120000</td>\n",
       "      <td>3.170000</td>\n",
       "      <td>985.000000</td>\n",
       "      <td>462.250000</td>\n",
       "      <td>7.840000</td>\n",
       "      <td>8.265700</td>\n",
       "      <td>1.254400</td>\n",
       "      <td>10.048900</td>\n",
       "      <td>9.702250e+05</td>\n",
       "    </tr>\n",
       "    <tr>\n",
       "      <th>max</th>\n",
       "      <td>14.830000</td>\n",
       "      <td>5.800000</td>\n",
       "      <td>3.230000</td>\n",
       "      <td>30.000000</td>\n",
       "      <td>162.000000</td>\n",
       "      <td>3.880000</td>\n",
       "      <td>5.080000</td>\n",
       "      <td>0.660000</td>\n",
       "      <td>3.580000</td>\n",
       "      <td>13.000000</td>\n",
       "      <td>1.710000</td>\n",
       "      <td>4.000000</td>\n",
       "      <td>1680.000000</td>\n",
       "      <td>900.000000</td>\n",
       "      <td>15.054400</td>\n",
       "      <td>25.806400</td>\n",
       "      <td>2.924100</td>\n",
       "      <td>16.000000</td>\n",
       "      <td>2.822400e+06</td>\n",
       "    </tr>\n",
       "  </tbody>\n",
       "</table>\n",
       "</div>"
      ],
      "text/plain": [
       "          alcohol  malic_acid         ash  alcalinity_of_ash   magnesium  \\\n",
       "count  178.000000  178.000000  178.000000         178.000000  178.000000   \n",
       "mean    13.000618    2.336348    2.366517          19.494944   99.741573   \n",
       "std      0.811827    1.117146    0.274344           3.339564   14.282484   \n",
       "min     11.030000    0.740000    1.360000          10.600000   70.000000   \n",
       "25%     12.362500    1.602500    2.210000          17.200000   88.000000   \n",
       "50%     13.050000    1.865000    2.360000          19.500000   98.000000   \n",
       "75%     13.677500    3.082500    2.557500          21.500000  107.000000   \n",
       "max     14.830000    5.800000    3.230000          30.000000  162.000000   \n",
       "\n",
       "       total_phenols  flavanoids  nonflavanoid_phenols  proanthocyanins  \\\n",
       "count     178.000000  178.000000            178.000000       178.000000   \n",
       "mean        2.295112    2.029270              0.361854         1.590899   \n",
       "std         0.625851    0.998859              0.124453         0.572359   \n",
       "min         0.980000    0.340000              0.130000         0.410000   \n",
       "25%         1.742500    1.205000              0.270000         1.250000   \n",
       "50%         2.355000    2.135000              0.340000         1.555000   \n",
       "75%         2.800000    2.875000              0.437500         1.950000   \n",
       "max         3.880000    5.080000              0.660000         3.580000   \n",
       "\n",
       "       color_intensity         hue  od280/od315_of_diluted_wines      proline  \\\n",
       "count       178.000000  178.000000                    178.000000   178.000000   \n",
       "mean          5.058090    0.957449                      2.611685   746.893258   \n",
       "std           2.318286    0.228572                      0.709990   314.907474   \n",
       "min           1.280000    0.480000                      1.270000   278.000000   \n",
       "25%           3.220000    0.782500                      1.937500   500.500000   \n",
       "50%           4.690000    0.965000                      2.780000   673.500000   \n",
       "75%           6.200000    1.120000                      3.170000   985.000000   \n",
       "max          13.000000    1.710000                      4.000000  1680.000000   \n",
       "\n",
       "       alcalinity_of_ash_2  total_phenols_2  flavanoids_2       hue_2  \\\n",
       "count           178.000000       178.000000    178.000000  178.000000   \n",
       "mean            391.142865         5.657030      5.110049    0.968661   \n",
       "std             133.671775         2.936294      4.211441    0.443798   \n",
       "min             112.360000         0.960400      0.115600    0.230400   \n",
       "25%             295.840000         3.036325      1.452100    0.612325   \n",
       "50%             380.250000         5.546050      4.558250    0.931250   \n",
       "75%             462.250000         7.840000      8.265700    1.254400   \n",
       "max             900.000000        15.054400     25.806400    2.924100   \n",
       "\n",
       "       od280/od315_of_diluted_wines_2     proline_2  \n",
       "count                      178.000000  1.780000e+02  \n",
       "mean                         7.322155  6.564591e+05  \n",
       "std                          3.584316  5.558591e+05  \n",
       "min                          1.612900  7.728400e+04  \n",
       "25%                          3.754075  2.505010e+05  \n",
       "50%                          7.728400  4.536045e+05  \n",
       "75%                         10.048900  9.702250e+05  \n",
       "max                         16.000000  2.822400e+06  "
      ]
     },
     "execution_count": 66,
     "metadata": {},
     "output_type": "execute_result"
    }
   ],
   "source": [
    "X.describe()"
   ]
  },
  {
   "cell_type": "markdown",
   "metadata": {},
   "source": [
    "## Дополнительное задание для работы с курсовым проектом"
   ]
  },
  {
   "cell_type": "markdown",
   "metadata": {},
   "source": [
    "### Task 3.1\n",
    "Разбейте датасет из train.csv на обучающий и валидационный наборы данных."
   ]
  },
  {
   "cell_type": "code",
   "execution_count": 67,
   "metadata": {
    "scrolled": true
   },
   "outputs": [
    {
     "data": {
      "text/html": [
       "<div>\n",
       "<style scoped>\n",
       "    .dataframe tbody tr th:only-of-type {\n",
       "        vertical-align: middle;\n",
       "    }\n",
       "\n",
       "    .dataframe tbody tr th {\n",
       "        vertical-align: top;\n",
       "    }\n",
       "\n",
       "    .dataframe thead th {\n",
       "        text-align: right;\n",
       "    }\n",
       "</style>\n",
       "<table border=\"1\" class=\"dataframe\">\n",
       "  <thead>\n",
       "    <tr style=\"text-align: right;\">\n",
       "      <th></th>\n",
       "      <th>Id</th>\n",
       "      <th>DistrictId</th>\n",
       "      <th>Rooms</th>\n",
       "      <th>Square</th>\n",
       "      <th>LifeSquare</th>\n",
       "      <th>KitchenSquare</th>\n",
       "      <th>Floor</th>\n",
       "      <th>HouseFloor</th>\n",
       "      <th>HouseYear</th>\n",
       "      <th>Ecology_1</th>\n",
       "      <th>Ecology_2</th>\n",
       "      <th>Ecology_3</th>\n",
       "      <th>Social_1</th>\n",
       "      <th>Social_2</th>\n",
       "      <th>Social_3</th>\n",
       "      <th>Healthcare_1</th>\n",
       "      <th>Helthcare_2</th>\n",
       "      <th>Shops_1</th>\n",
       "      <th>Shops_2</th>\n",
       "      <th>Price</th>\n",
       "    </tr>\n",
       "  </thead>\n",
       "  <tbody>\n",
       "    <tr>\n",
       "      <th>0</th>\n",
       "      <td>11809</td>\n",
       "      <td>27</td>\n",
       "      <td>3.0</td>\n",
       "      <td>115.027311</td>\n",
       "      <td>NaN</td>\n",
       "      <td>10.0</td>\n",
       "      <td>4</td>\n",
       "      <td>10.0</td>\n",
       "      <td>2014</td>\n",
       "      <td>0.075424</td>\n",
       "      <td>B</td>\n",
       "      <td>B</td>\n",
       "      <td>11</td>\n",
       "      <td>3097</td>\n",
       "      <td>0</td>\n",
       "      <td>NaN</td>\n",
       "      <td>0</td>\n",
       "      <td>0</td>\n",
       "      <td>B</td>\n",
       "      <td>305018.871089</td>\n",
       "    </tr>\n",
       "    <tr>\n",
       "      <th>1</th>\n",
       "      <td>3013</td>\n",
       "      <td>22</td>\n",
       "      <td>1.0</td>\n",
       "      <td>39.832524</td>\n",
       "      <td>23.169223</td>\n",
       "      <td>8.0</td>\n",
       "      <td>7</td>\n",
       "      <td>8.0</td>\n",
       "      <td>1966</td>\n",
       "      <td>0.118537</td>\n",
       "      <td>B</td>\n",
       "      <td>B</td>\n",
       "      <td>30</td>\n",
       "      <td>6207</td>\n",
       "      <td>1</td>\n",
       "      <td>1183.0</td>\n",
       "      <td>1</td>\n",
       "      <td>0</td>\n",
       "      <td>B</td>\n",
       "      <td>177734.553407</td>\n",
       "    </tr>\n",
       "    <tr>\n",
       "      <th>2</th>\n",
       "      <td>8215</td>\n",
       "      <td>1</td>\n",
       "      <td>3.0</td>\n",
       "      <td>78.342215</td>\n",
       "      <td>47.671972</td>\n",
       "      <td>10.0</td>\n",
       "      <td>2</td>\n",
       "      <td>17.0</td>\n",
       "      <td>1988</td>\n",
       "      <td>0.025609</td>\n",
       "      <td>B</td>\n",
       "      <td>B</td>\n",
       "      <td>33</td>\n",
       "      <td>5261</td>\n",
       "      <td>0</td>\n",
       "      <td>240.0</td>\n",
       "      <td>3</td>\n",
       "      <td>1</td>\n",
       "      <td>B</td>\n",
       "      <td>282078.720850</td>\n",
       "    </tr>\n",
       "    <tr>\n",
       "      <th>3</th>\n",
       "      <td>2352</td>\n",
       "      <td>1</td>\n",
       "      <td>1.0</td>\n",
       "      <td>40.409907</td>\n",
       "      <td>NaN</td>\n",
       "      <td>1.0</td>\n",
       "      <td>10</td>\n",
       "      <td>22.0</td>\n",
       "      <td>1977</td>\n",
       "      <td>0.007122</td>\n",
       "      <td>B</td>\n",
       "      <td>B</td>\n",
       "      <td>1</td>\n",
       "      <td>264</td>\n",
       "      <td>0</td>\n",
       "      <td>NaN</td>\n",
       "      <td>0</td>\n",
       "      <td>1</td>\n",
       "      <td>B</td>\n",
       "      <td>168106.007630</td>\n",
       "    </tr>\n",
       "    <tr>\n",
       "      <th>4</th>\n",
       "      <td>13866</td>\n",
       "      <td>94</td>\n",
       "      <td>2.0</td>\n",
       "      <td>64.285067</td>\n",
       "      <td>38.562517</td>\n",
       "      <td>9.0</td>\n",
       "      <td>16</td>\n",
       "      <td>16.0</td>\n",
       "      <td>1972</td>\n",
       "      <td>0.282798</td>\n",
       "      <td>B</td>\n",
       "      <td>B</td>\n",
       "      <td>33</td>\n",
       "      <td>8667</td>\n",
       "      <td>2</td>\n",
       "      <td>NaN</td>\n",
       "      <td>0</td>\n",
       "      <td>6</td>\n",
       "      <td>B</td>\n",
       "      <td>343995.102962</td>\n",
       "    </tr>\n",
       "    <tr>\n",
       "      <th>...</th>\n",
       "      <td>...</td>\n",
       "      <td>...</td>\n",
       "      <td>...</td>\n",
       "      <td>...</td>\n",
       "      <td>...</td>\n",
       "      <td>...</td>\n",
       "      <td>...</td>\n",
       "      <td>...</td>\n",
       "      <td>...</td>\n",
       "      <td>...</td>\n",
       "      <td>...</td>\n",
       "      <td>...</td>\n",
       "      <td>...</td>\n",
       "      <td>...</td>\n",
       "      <td>...</td>\n",
       "      <td>...</td>\n",
       "      <td>...</td>\n",
       "      <td>...</td>\n",
       "      <td>...</td>\n",
       "      <td>...</td>\n",
       "    </tr>\n",
       "    <tr>\n",
       "      <th>9995</th>\n",
       "      <td>1260</td>\n",
       "      <td>61</td>\n",
       "      <td>2.0</td>\n",
       "      <td>49.090728</td>\n",
       "      <td>33.272626</td>\n",
       "      <td>6.0</td>\n",
       "      <td>3</td>\n",
       "      <td>12.0</td>\n",
       "      <td>1981</td>\n",
       "      <td>0.300323</td>\n",
       "      <td>B</td>\n",
       "      <td>B</td>\n",
       "      <td>52</td>\n",
       "      <td>10311</td>\n",
       "      <td>6</td>\n",
       "      <td>NaN</td>\n",
       "      <td>1</td>\n",
       "      <td>9</td>\n",
       "      <td>B</td>\n",
       "      <td>119367.455796</td>\n",
       "    </tr>\n",
       "    <tr>\n",
       "      <th>9996</th>\n",
       "      <td>16265</td>\n",
       "      <td>27</td>\n",
       "      <td>2.0</td>\n",
       "      <td>64.307684</td>\n",
       "      <td>37.038420</td>\n",
       "      <td>9.0</td>\n",
       "      <td>13</td>\n",
       "      <td>0.0</td>\n",
       "      <td>1977</td>\n",
       "      <td>0.072158</td>\n",
       "      <td>B</td>\n",
       "      <td>B</td>\n",
       "      <td>2</td>\n",
       "      <td>629</td>\n",
       "      <td>1</td>\n",
       "      <td>NaN</td>\n",
       "      <td>0</td>\n",
       "      <td>0</td>\n",
       "      <td>A</td>\n",
       "      <td>199715.148807</td>\n",
       "    </tr>\n",
       "    <tr>\n",
       "      <th>9997</th>\n",
       "      <td>2795</td>\n",
       "      <td>178</td>\n",
       "      <td>1.0</td>\n",
       "      <td>29.648057</td>\n",
       "      <td>16.555363</td>\n",
       "      <td>5.0</td>\n",
       "      <td>3</td>\n",
       "      <td>5.0</td>\n",
       "      <td>1958</td>\n",
       "      <td>0.460556</td>\n",
       "      <td>B</td>\n",
       "      <td>B</td>\n",
       "      <td>20</td>\n",
       "      <td>4386</td>\n",
       "      <td>14</td>\n",
       "      <td>NaN</td>\n",
       "      <td>1</td>\n",
       "      <td>5</td>\n",
       "      <td>B</td>\n",
       "      <td>165953.912580</td>\n",
       "    </tr>\n",
       "    <tr>\n",
       "      <th>9998</th>\n",
       "      <td>14561</td>\n",
       "      <td>21</td>\n",
       "      <td>1.0</td>\n",
       "      <td>32.330292</td>\n",
       "      <td>22.326870</td>\n",
       "      <td>5.0</td>\n",
       "      <td>3</td>\n",
       "      <td>9.0</td>\n",
       "      <td>1969</td>\n",
       "      <td>0.194489</td>\n",
       "      <td>B</td>\n",
       "      <td>B</td>\n",
       "      <td>47</td>\n",
       "      <td>8004</td>\n",
       "      <td>3</td>\n",
       "      <td>125.0</td>\n",
       "      <td>3</td>\n",
       "      <td>5</td>\n",
       "      <td>B</td>\n",
       "      <td>171842.411855</td>\n",
       "    </tr>\n",
       "    <tr>\n",
       "      <th>9999</th>\n",
       "      <td>7202</td>\n",
       "      <td>94</td>\n",
       "      <td>1.0</td>\n",
       "      <td>35.815476</td>\n",
       "      <td>22.301367</td>\n",
       "      <td>6.0</td>\n",
       "      <td>9</td>\n",
       "      <td>9.0</td>\n",
       "      <td>1975</td>\n",
       "      <td>0.127376</td>\n",
       "      <td>B</td>\n",
       "      <td>B</td>\n",
       "      <td>43</td>\n",
       "      <td>8429</td>\n",
       "      <td>3</td>\n",
       "      <td>NaN</td>\n",
       "      <td>3</td>\n",
       "      <td>9</td>\n",
       "      <td>B</td>\n",
       "      <td>177685.627486</td>\n",
       "    </tr>\n",
       "  </tbody>\n",
       "</table>\n",
       "<p>10000 rows × 20 columns</p>\n",
       "</div>"
      ],
      "text/plain": [
       "         Id  DistrictId  Rooms      Square  LifeSquare  KitchenSquare  Floor  \\\n",
       "0     11809          27    3.0  115.027311         NaN           10.0      4   \n",
       "1      3013          22    1.0   39.832524   23.169223            8.0      7   \n",
       "2      8215           1    3.0   78.342215   47.671972           10.0      2   \n",
       "3      2352           1    1.0   40.409907         NaN            1.0     10   \n",
       "4     13866          94    2.0   64.285067   38.562517            9.0     16   \n",
       "...     ...         ...    ...         ...         ...            ...    ...   \n",
       "9995   1260          61    2.0   49.090728   33.272626            6.0      3   \n",
       "9996  16265          27    2.0   64.307684   37.038420            9.0     13   \n",
       "9997   2795         178    1.0   29.648057   16.555363            5.0      3   \n",
       "9998  14561          21    1.0   32.330292   22.326870            5.0      3   \n",
       "9999   7202          94    1.0   35.815476   22.301367            6.0      9   \n",
       "\n",
       "      HouseFloor  HouseYear  Ecology_1 Ecology_2 Ecology_3  Social_1  \\\n",
       "0           10.0       2014   0.075424         B         B        11   \n",
       "1            8.0       1966   0.118537         B         B        30   \n",
       "2           17.0       1988   0.025609         B         B        33   \n",
       "3           22.0       1977   0.007122         B         B         1   \n",
       "4           16.0       1972   0.282798         B         B        33   \n",
       "...          ...        ...        ...       ...       ...       ...   \n",
       "9995        12.0       1981   0.300323         B         B        52   \n",
       "9996         0.0       1977   0.072158         B         B         2   \n",
       "9997         5.0       1958   0.460556         B         B        20   \n",
       "9998         9.0       1969   0.194489         B         B        47   \n",
       "9999         9.0       1975   0.127376         B         B        43   \n",
       "\n",
       "      Social_2  Social_3  Healthcare_1  Helthcare_2  Shops_1 Shops_2  \\\n",
       "0         3097         0           NaN            0        0       B   \n",
       "1         6207         1        1183.0            1        0       B   \n",
       "2         5261         0         240.0            3        1       B   \n",
       "3          264         0           NaN            0        1       B   \n",
       "4         8667         2           NaN            0        6       B   \n",
       "...        ...       ...           ...          ...      ...     ...   \n",
       "9995     10311         6           NaN            1        9       B   \n",
       "9996       629         1           NaN            0        0       A   \n",
       "9997      4386        14           NaN            1        5       B   \n",
       "9998      8004         3         125.0            3        5       B   \n",
       "9999      8429         3           NaN            3        9       B   \n",
       "\n",
       "              Price  \n",
       "0     305018.871089  \n",
       "1     177734.553407  \n",
       "2     282078.720850  \n",
       "3     168106.007630  \n",
       "4     343995.102962  \n",
       "...             ...  \n",
       "9995  119367.455796  \n",
       "9996  199715.148807  \n",
       "9997  165953.912580  \n",
       "9998  171842.411855  \n",
       "9999  177685.627486  \n",
       "\n",
       "[10000 rows x 20 columns]"
      ]
     },
     "execution_count": 67,
     "metadata": {},
     "output_type": "execute_result"
    }
   ],
   "source": [
    "df = pd.read_csv('train.csv')\n",
    "df"
   ]
  },
  {
   "cell_type": "code",
   "execution_count": 68,
   "metadata": {},
   "outputs": [],
   "source": [
    "X = df.drop('Price', axis = 1)\n",
    "y = df['Price']"
   ]
  },
  {
   "cell_type": "code",
   "execution_count": 69,
   "metadata": {},
   "outputs": [],
   "source": [
    "X_train, X_valid, y_train, y_valid = train_test_split(X, y, test_size = 0.3, random_state = 42)"
   ]
  },
  {
   "cell_type": "markdown",
   "metadata": {},
   "source": [
    "### Task 3.2\n",
    "Заполните пропущенные значения в датасете медианами или модами."
   ]
  },
  {
   "cell_type": "code",
   "execution_count": 70,
   "metadata": {},
   "outputs": [
    {
     "name": "stdout",
     "output_type": "stream",
     "text": [
      "<class 'pandas.core.frame.DataFrame'>\n",
      "RangeIndex: 10000 entries, 0 to 9999\n",
      "Data columns (total 20 columns):\n",
      " #   Column         Non-Null Count  Dtype  \n",
      "---  ------         --------------  -----  \n",
      " 0   Id             10000 non-null  int64  \n",
      " 1   DistrictId     10000 non-null  int64  \n",
      " 2   Rooms          10000 non-null  float64\n",
      " 3   Square         10000 non-null  float64\n",
      " 4   LifeSquare     7887 non-null   float64\n",
      " 5   KitchenSquare  10000 non-null  float64\n",
      " 6   Floor          10000 non-null  int64  \n",
      " 7   HouseFloor     10000 non-null  float64\n",
      " 8   HouseYear      10000 non-null  int64  \n",
      " 9   Ecology_1      10000 non-null  float64\n",
      " 10  Ecology_2      10000 non-null  object \n",
      " 11  Ecology_3      10000 non-null  object \n",
      " 12  Social_1       10000 non-null  int64  \n",
      " 13  Social_2       10000 non-null  int64  \n",
      " 14  Social_3       10000 non-null  int64  \n",
      " 15  Healthcare_1   5202 non-null   float64\n",
      " 16  Helthcare_2    10000 non-null  int64  \n",
      " 17  Shops_1        10000 non-null  int64  \n",
      " 18  Shops_2        10000 non-null  object \n",
      " 19  Price          10000 non-null  float64\n",
      "dtypes: float64(8), int64(9), object(3)\n",
      "memory usage: 1.5+ MB\n"
     ]
    }
   ],
   "source": [
    "df.info()"
   ]
  },
  {
   "cell_type": "code",
   "execution_count": 71,
   "metadata": {},
   "outputs": [],
   "source": [
    "X_train_LifeSquare_median = X_train['LifeSquare'].median()\n",
    "X_train_Healthcare_1_median = X_train['Healthcare_1'].median()"
   ]
  },
  {
   "cell_type": "code",
   "execution_count": 72,
   "metadata": {},
   "outputs": [
    {
     "name": "stdout",
     "output_type": "stream",
     "text": [
      "<class 'pandas.core.frame.DataFrame'>\n",
      "RangeIndex: 10000 entries, 0 to 9999\n",
      "Data columns (total 19 columns):\n",
      " #   Column         Non-Null Count  Dtype  \n",
      "---  ------         --------------  -----  \n",
      " 0   Id             10000 non-null  int64  \n",
      " 1   DistrictId     10000 non-null  int64  \n",
      " 2   Rooms          10000 non-null  float64\n",
      " 3   Square         10000 non-null  float64\n",
      " 4   LifeSquare     10000 non-null  float64\n",
      " 5   KitchenSquare  10000 non-null  float64\n",
      " 6   Floor          10000 non-null  int64  \n",
      " 7   HouseFloor     10000 non-null  float64\n",
      " 8   HouseYear      10000 non-null  int64  \n",
      " 9   Ecology_1      10000 non-null  float64\n",
      " 10  Ecology_2      10000 non-null  object \n",
      " 11  Ecology_3      10000 non-null  object \n",
      " 12  Social_1       10000 non-null  int64  \n",
      " 13  Social_2       10000 non-null  int64  \n",
      " 14  Social_3       10000 non-null  int64  \n",
      " 15  Healthcare_1   10000 non-null  float64\n",
      " 16  Helthcare_2    10000 non-null  int64  \n",
      " 17  Shops_1        10000 non-null  int64  \n",
      " 18  Shops_2        10000 non-null  object \n",
      "dtypes: float64(7), int64(9), object(3)\n",
      "memory usage: 1.4+ MB\n"
     ]
    }
   ],
   "source": [
    "X['LifeSquare'] = X['LifeSquare'].fillna(X_train_LifeSquare_median)\n",
    "X['Healthcare_1'] = X['Healthcare_1'].fillna(X_train_Healthcare_1_median)\n",
    "X.info()"
   ]
  },
  {
   "cell_type": "markdown",
   "metadata": {},
   "source": [
    "### Task 3.3\n",
    "Переведите строковый признак в числовое представление."
   ]
  },
  {
   "cell_type": "code",
   "execution_count": 73,
   "metadata": {},
   "outputs": [
    {
     "name": "stdout",
     "output_type": "stream",
     "text": [
      "<class 'pandas.core.frame.DataFrame'>\n",
      "RangeIndex: 10000 entries, 0 to 9999\n",
      "Data columns (total 22 columns):\n",
      " #   Column         Non-Null Count  Dtype  \n",
      "---  ------         --------------  -----  \n",
      " 0   Id             10000 non-null  int64  \n",
      " 1   DistrictId     10000 non-null  int64  \n",
      " 2   Rooms          10000 non-null  float64\n",
      " 3   Square         10000 non-null  float64\n",
      " 4   LifeSquare     10000 non-null  float64\n",
      " 5   KitchenSquare  10000 non-null  float64\n",
      " 6   Floor          10000 non-null  int64  \n",
      " 7   HouseFloor     10000 non-null  float64\n",
      " 8   HouseYear      10000 non-null  int64  \n",
      " 9   Ecology_1      10000 non-null  float64\n",
      " 10  Social_1       10000 non-null  int64  \n",
      " 11  Social_2       10000 non-null  int64  \n",
      " 12  Social_3       10000 non-null  int64  \n",
      " 13  Healthcare_1   10000 non-null  float64\n",
      " 14  Helthcare_2    10000 non-null  int64  \n",
      " 15  Shops_1        10000 non-null  int64  \n",
      " 16  Ecology_2_A    10000 non-null  uint8  \n",
      " 17  Ecology_2_B    10000 non-null  uint8  \n",
      " 18  Ecology_3_A    10000 non-null  uint8  \n",
      " 19  Ecology_3_B    10000 non-null  uint8  \n",
      " 20  Shops_2_A      10000 non-null  uint8  \n",
      " 21  Shops_2_B      10000 non-null  uint8  \n",
      "dtypes: float64(7), int64(9), uint8(6)\n",
      "memory usage: 1.3 MB\n"
     ]
    }
   ],
   "source": [
    "X = pd.get_dummies(X)\n",
    "X.info()"
   ]
  },
  {
   "cell_type": "markdown",
   "metadata": {},
   "source": [
    "### Task 3.4\n",
    "Обучите линейную модель. Посчитайте метрику R2 на двух наборах данных. Сделайте выводы."
   ]
  },
  {
   "cell_type": "code",
   "execution_count": 74,
   "metadata": {},
   "outputs": [],
   "source": [
    "X_train, X_valid, y_train, y_valid = train_test_split(X, y, test_size = 0.3, random_state = 42)"
   ]
  },
  {
   "cell_type": "code",
   "execution_count": 75,
   "metadata": {},
   "outputs": [],
   "source": [
    "lr = LinearRegression()"
   ]
  },
  {
   "cell_type": "code",
   "execution_count": 76,
   "metadata": {},
   "outputs": [
    {
     "data": {
      "text/plain": [
       "LinearRegression()"
      ]
     },
     "execution_count": 76,
     "metadata": {},
     "output_type": "execute_result"
    }
   ],
   "source": [
    "lr.fit(X_train, y_train)"
   ]
  },
  {
   "cell_type": "code",
   "execution_count": 77,
   "metadata": {},
   "outputs": [],
   "source": [
    "y_pred = lr.predict(X_valid)"
   ]
  },
  {
   "cell_type": "code",
   "execution_count": 78,
   "metadata": {},
   "outputs": [
    {
     "data": {
      "text/plain": [
       "0.4857373287070852"
      ]
     },
     "execution_count": 78,
     "metadata": {},
     "output_type": "execute_result"
    }
   ],
   "source": [
    "r2_score(y_valid, y_pred)"
   ]
  },
  {
   "cell_type": "code",
   "execution_count": 79,
   "metadata": {},
   "outputs": [],
   "source": [
    "y_pred_train = lr.predict(X_train)"
   ]
  },
  {
   "cell_type": "code",
   "execution_count": 80,
   "metadata": {},
   "outputs": [
    {
     "data": {
      "text/plain": [
       "0.48419516306565"
      ]
     },
     "execution_count": 80,
     "metadata": {},
     "output_type": "execute_result"
    }
   ],
   "source": [
    "r2_score(y_train, y_pred_train)"
   ]
  },
  {
   "cell_type": "markdown",
   "metadata": {},
   "source": [
    "Результаты очень плохие, так как не исправлены выбросы в данных. Переобучение отсутствует."
   ]
  },
  {
   "cell_type": "markdown",
   "metadata": {},
   "source": [
    "### Task 3.5\n",
    "Обучите более сложную модель на ваш выбор. Посчитайте метрику R2 на двух наборах данных. Сделайте выводы."
   ]
  },
  {
   "cell_type": "code",
   "execution_count": 81,
   "metadata": {},
   "outputs": [],
   "source": [
    "from sklearn.neighbors import KNeighborsRegressor"
   ]
  },
  {
   "cell_type": "code",
   "execution_count": 82,
   "metadata": {},
   "outputs": [],
   "source": [
    "from sklearn.preprocessing import RobustScaler"
   ]
  },
  {
   "cell_type": "code",
   "execution_count": 83,
   "metadata": {},
   "outputs": [],
   "source": [
    "scaler = RobustScaler()"
   ]
  },
  {
   "cell_type": "code",
   "execution_count": 84,
   "metadata": {},
   "outputs": [],
   "source": [
    "X_train = scaler.fit_transform(X_train)"
   ]
  },
  {
   "cell_type": "code",
   "execution_count": 85,
   "metadata": {},
   "outputs": [],
   "source": [
    "X_valid = scaler.transform(X_valid)"
   ]
  },
  {
   "cell_type": "code",
   "execution_count": 86,
   "metadata": {},
   "outputs": [],
   "source": [
    "knr = KNeighborsRegressor()"
   ]
  },
  {
   "cell_type": "code",
   "execution_count": 87,
   "metadata": {},
   "outputs": [
    {
     "data": {
      "text/plain": [
       "KNeighborsRegressor()"
      ]
     },
     "execution_count": 87,
     "metadata": {},
     "output_type": "execute_result"
    }
   ],
   "source": [
    "knr.fit(X_train, y_train)"
   ]
  },
  {
   "cell_type": "code",
   "execution_count": 88,
   "metadata": {},
   "outputs": [],
   "source": [
    "y_pred = knr.predict(X_valid)"
   ]
  },
  {
   "cell_type": "code",
   "execution_count": 89,
   "metadata": {},
   "outputs": [
    {
     "data": {
      "text/plain": [
       "0.6486927222371497"
      ]
     },
     "execution_count": 89,
     "metadata": {},
     "output_type": "execute_result"
    }
   ],
   "source": [
    "r2_score(y_valid, y_pred)"
   ]
  },
  {
   "cell_type": "code",
   "execution_count": 90,
   "metadata": {},
   "outputs": [],
   "source": [
    "y_pred_train = knr.predict(X_train)"
   ]
  },
  {
   "cell_type": "code",
   "execution_count": 91,
   "metadata": {},
   "outputs": [
    {
     "data": {
      "text/plain": [
       "0.7631068921487972"
      ]
     },
     "execution_count": 91,
     "metadata": {},
     "output_type": "execute_result"
    }
   ],
   "source": [
    "r2_score(y_train, y_pred_train)"
   ]
  },
  {
   "cell_type": "markdown",
   "metadata": {},
   "source": [
    "Результаты этой модели намного лучше, но есть видимое переобучение."
   ]
  },
  {
   "cell_type": "markdown",
   "metadata": {},
   "source": [
    "### Task 3.6\n",
    "Подберите оптимальные гиперпараметры для вашей модели. Пытайтесь улучшить её качество на двух наборах данных."
   ]
  },
  {
   "cell_type": "code",
   "execution_count": 92,
   "metadata": {},
   "outputs": [
    {
     "name": "stdout",
     "output_type": "stream",
     "text": [
      "n_neighbors = 2 \n",
      "\t r2_valid = 0.587676253542846 \n",
      "\t r2_train = 0.8715134304880505\n",
      "n_neighbors = 3 \n",
      "\t r2_valid = 0.6374025498638699 \n",
      "\t r2_train = 0.8207473181334585\n",
      "n_neighbors = 4 \n",
      "\t r2_valid = 0.6503306479445721 \n",
      "\t r2_train = 0.7887113937988288\n",
      "n_neighbors = 5 \n",
      "\t r2_valid = 0.6486927222371497 \n",
      "\t r2_train = 0.7631068921487972\n",
      "n_neighbors = 6 \n",
      "\t r2_valid = 0.6450913039768992 \n",
      "\t r2_train = 0.7441400094908057\n",
      "n_neighbors = 7 \n",
      "\t r2_valid = 0.6469213782287628 \n",
      "\t r2_train = 0.7360244582711004\n",
      "n_neighbors = 8 \n",
      "\t r2_valid = 0.6451915566430135 \n",
      "\t r2_train = 0.7252350538682252\n",
      "n_neighbors = 9 \n",
      "\t r2_valid = 0.6420878813405998 \n",
      "\t r2_train = 0.715262675743399\n",
      "n_neighbors = 10 \n",
      "\t r2_valid = 0.6409098258123368 \n",
      "\t r2_train = 0.706624830059752\n",
      "n_neighbors = 11 \n",
      "\t r2_valid = 0.6407963938386189 \n",
      "\t r2_train = 0.7004443422668025\n",
      "n_neighbors = 12 \n",
      "\t r2_valid = 0.63876262861042 \n",
      "\t r2_train = 0.6925767362911803\n",
      "n_neighbors = 13 \n",
      "\t r2_valid = 0.6353273213714717 \n",
      "\t r2_train = 0.6862034276913986\n",
      "n_neighbors = 14 \n",
      "\t r2_valid = 0.6341078355751404 \n",
      "\t r2_train = 0.6813482693009862\n"
     ]
    }
   ],
   "source": [
    "k_vals = np.arange(2,15)\n",
    "r2_valid = []\n",
    "r2_train = []\n",
    "for val in k_vals:\n",
    "    knr = KNeighborsRegressor(n_neighbors=val)\n",
    "    knr.fit(X_train, y_train)\n",
    "    y_pred = knr.predict(X_valid)\n",
    "    y_pred_train = knr.predict(X_train)\n",
    "    r2_val = r2_score(y_valid, y_pred)\n",
    "    r2_tr = r2_score(y_train, y_pred_train)\n",
    "    r2_valid.append(r2_val)\n",
    "    r2_train.append(r2_tr)\n",
    "    print(f'n_neighbors = {val} \\n\\t r2_valid = {r2_val} \\n\\t r2_train = {r2_tr}')"
   ]
  },
  {
   "cell_type": "code",
   "execution_count": 93,
   "metadata": {},
   "outputs": [
    {
     "data": {
      "image/png": "[encoded data removed]",
      "text/plain": [
       "<Figure size 432x288 with 1 Axes>"
      ]
     },
     "metadata": {
      "needs_background": "light"
     },
     "output_type": "display_data"
    }
   ],
   "source": [
    "plt.plot(k_vals, r2_valid)\n",
    "plt.plot(k_vals, r2_train)\n",
    "plt.xlabel('n_neighbors')\n",
    "plt.ylabel('r2_score')\n",
    "plt.legend(['valid', 'train'])\n",
    "plt.show()"
   ]
  },
  {
   "cell_type": "code",
   "execution_count": 94,
   "metadata": {},
   "outputs": [
    {
     "data": {
      "text/plain": [
       "KNeighborsRegressor(n_neighbors=4)"
      ]
     },
     "execution_count": 94,
     "metadata": {},
     "output_type": "execute_result"
    }
   ],
   "source": [
    "knr = KNeighborsRegressor(n_neighbors=4)\n",
    "knr.fit(X_train, y_train)"
   ]
  },
  {
   "cell_type": "code",
   "execution_count": 95,
   "metadata": {},
   "outputs": [
    {
     "data": {
      "text/plain": [
       "0.6503306479445721"
      ]
     },
     "execution_count": 95,
     "metadata": {},
     "output_type": "execute_result"
    }
   ],
   "source": [
    "y_pred = knr.predict(X_valid)\n",
    "r2_score(y_valid, y_pred)"
   ]
  },
  {
   "cell_type": "code",
   "execution_count": 96,
   "metadata": {},
   "outputs": [
    {
     "data": {
      "text/plain": [
       "0.7887113937988288"
      ]
     },
     "execution_count": 96,
     "metadata": {},
     "output_type": "execute_result"
    }
   ],
   "source": [
    "y_pred_train = knr.predict(X_train)\n",
    "r2_score(y_train, y_pred_train)"
   ]
  },
  {
   "cell_type": "markdown",
   "metadata": {},
   "source": [
    "Подобрав главный параметр этой модели, число соседей, мы смогли немного её улучшить."
   ]
  }
 ],
 "metadata": {
  "kernelspec": {
   "display_name": "Python 3",
   "language": "python",
   "name": "python3"
  },
  "language_info": {
   "codemirror_mode": {
    "name": "ipython",
    "version": 3
   },
   "file_extension": ".py",
   "mimetype": "text/x-python",
   "name": "python",
   "nbconvert_exporter": "python",
   "pygments_lexer": "ipython3",
   "version": "3.8.5"
  }
 },
 "nbformat": 4,
 "nbformat_minor": 4
}
